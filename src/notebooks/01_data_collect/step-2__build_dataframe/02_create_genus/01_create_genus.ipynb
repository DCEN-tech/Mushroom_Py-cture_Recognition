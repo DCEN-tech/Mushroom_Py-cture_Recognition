{
 "cells": [
  {
   "cell_type": "markdown",
   "metadata": {},
   "source": [
    "<table style='border: 3px solid black; width: 100%;'>\n",
    "    <tr>\n",
    "        <th style='width: 5%;'>&nbsp;</th>\n",
    "        <th style='width: 15%;'><img src='../../../../../resources/images/amanita_muscaria.png'></th>\n",
    "        <th><center><h1 style='font-size: 38px;'>[ MUSHROOM Project ]</h1></center></th>\n",
    "        <th style='width: 5%'>&nbsp;</th>\n",
    "    </tr>\n",
    "    <tr>\n",
    "        <td>&nbsp;</td>\n",
    "        <td>&nbsp;</td>\n",
    "        <td>Project type: <span style='color: blue;'><strong>Image Classification</strong></span></td>        \n",
    "        <td>&nbsp;</td>\n",
    "    </tr>\n",
    "    <tr>\n",
    "        <td>&nbsp;</td>\n",
    "        <td>&nbsp;</td>\n",
    "        <td>Autors: </span><strong><span style='color: blue;'>Sabah ABIH</span> / <span style='color: blue;'>Olivier CONSTANTIN</span> / <span style='color: blue;'>David CHARLES-ELIE-NELSON</span></strong></td>\n",
    "        <td>&nbsp;</td>\n",
    "    </tr>\n",
    "</table>\n",
    "\n",
    "<hr style=\"border-width: 4px ; border-color: #0C22D7\">\n",
    "\n",
    "# [Build DataFrame]: ---( 01 - Create genus )---</h1></td>\n",
    "\n",
    "<hr style=\"border-width: 4px ; border-color: #0C22D7\">"
   ]
  },
  {
   "cell_type": "markdown",
   "metadata": {},
   "source": [
    "# Initialization"
   ]
  },
  {
   "cell_type": "markdown",
   "metadata": {},
   "source": [
    "## Import Standard Libraries"
   ]
  },
  {
   "cell_type": "code",
   "execution_count": 1,
   "metadata": {
    "executionInfo": {
     "elapsed": 529,
     "status": "ok",
     "timestamp": 1617138520904,
     "user": {
      "displayName": "Mushroom Recognition",
      "photoUrl": "",
      "userId": "12626355061292107466"
     },
     "user_tz": -120
    },
    "id": "GphVl7JeA7-U"
   },
   "outputs": [
    {
     "name": "stdout",
     "output_type": "stream",
     "text": [
      "Pandas:  1.2.4\n"
     ]
    }
   ],
   "source": [
    "#~~~~~~~~~~~~~~~~~~~~~~~~~~~~~~~~~~~~~~~~~~~~~~~~~~~~~~~~~~#\n",
    "# Import Standard Libraries\n",
    "#~~~~~~~~~~~~~~~~~~~~~~~~~~~~~~~~~~~~~~~~~~~~~~~~~~~~~~~~~~#\n",
    "\n",
    "import os\n",
    "import sys\n",
    "\n",
    "# Pandas\n",
    "import pandas as pd\n",
    "print('Pandas: ', pd.__version__)"
   ]
  },
  {
   "cell_type": "markdown",
   "metadata": {},
   "source": [
    "## Settings"
   ]
  },
  {
   "cell_type": "markdown",
   "metadata": {},
   "source": [
    "### Environment Name"
   ]
  },
  {
   "cell_type": "code",
   "execution_count": 2,
   "metadata": {},
   "outputs": [
    {
     "name": "stdout",
     "output_type": "stream",
     "text": [
      "Enter the environment name:dad\n"
     ]
    }
   ],
   "source": [
    "#~~~~~~~~~~~~~~~~~~~~~~~~~~~~~~~~~~~~~~~~~~~~~~~~~~~~~~~~~~#\n",
    "# Environment Name\n",
    "#~~~~~~~~~~~~~~~~~~~~~~~~~~~~~~~~~~~~~~~~~~~~~~~~~~~~~~~~~~#\n",
    "\n",
    "# Asking for the environment name (on which this notebook will be executed)\n",
    "ENVIRONMENT_NAME = input (\"Enter the environment name:\").lower()\n",
    "    # possible values:\n",
    "    #    'gc' | 'googlecolab' | 'google colab' : any of this value will be equivalent to the remote platform: 'Google Colab'\n",
    "    #    'dad'  | 'david'                       : for the local platform whose owner is David\n",
    "    #    'oliv' | 'olivier'                     : for the local platform whose owner is Olivier"
   ]
  },
  {
   "cell_type": "markdown",
   "metadata": {},
   "source": [
    "### Path Settings"
   ]
  },
  {
   "cell_type": "code",
   "execution_count": 3,
   "metadata": {},
   "outputs": [
    {
     "name": "stdout",
     "output_type": "stream",
     "text": [
      "Path setings initialized for environment: david\n"
     ]
    }
   ],
   "source": [
    "#~~~~~~~~~~~~~~~~~~~~~~~~~~~~~~~~~~~~~~~~~~~~~~~~~~~~~~~~~~#\n",
    "# Path Settings\n",
    "#~~~~~~~~~~~~~~~~~~~~~~~~~~~~~~~~~~~~~~~~~~~~~~~~~~~~~~~~~~#\n",
    "\n",
    "MUSHROOMS_CSV_FILENAME = 'mushrooms.csv'\n",
    "GENUS_CSV_FILENAME     = 'genus.csv'\n",
    "\n",
    "# ~~~ Setting paths according the environment name\n",
    "#\n",
    "# GOOGLE COLAB path settings\n",
    "if ENVIRONMENT_NAME in ('gc', 'googlecolab', 'google colab'):\n",
    "    \n",
    "    ENVIRONMENT_NAME = 'google colab'\n",
    "    raise Error(f'Path settings not yet implemented for environment: {ENVIRONMNENT_NAME}')\n",
    "\n",
    "    GDRIVE_MOUNT_POINT = '/content/drive'\n",
    "    CSV_SRC_DIR='/content/drive/My Drive/Mushroom_project/datasource/mushroomObserver/dataframe/orig'\n",
    "    CSV_DST_DIR='/content/drive/My Drive/Mushroom_project/datasource/mushroomObserver/dataframe/custom'\n",
    "    \n",
    "    # Specific initialization for GOOGLE COLAB platform\n",
    "    #\n",
    "    # Import Libraries\n",
    "    from google.colab import drive\n",
    "    # For Google Colab only !\n",
    "    gdriveMountPath = PATH_SETTINGS.get('GOOGLE_DRIVE_MOUNT_POINT')\n",
    "    if gdriveMountPath:\n",
    "        # Mount the google drive if not already done\n",
    "        if not os.path.isdir(gdriveMountPath):\n",
    "            drive.mount(gdriveMountPath)\n",
    "            print('Google drive mounted !')\n",
    "    else:\n",
    "        raise Error('Failed to retrieve the Google Drive mount point path !')    \n",
    "    \n",
    "# ~~~ DAD custom path settings\n",
    "elif ENVIRONMENT_NAME in ('dad', 'david'):\n",
    "    \n",
    "    ENVIRONMENT_NAME = 'david'\n",
    "    \n",
    "    CSV_SRC_DIR = '/resource/project_mushroom/work/build_dataframe/clean'\n",
    "    CSV_DST_DIR = '/resource/project_mushroom/work/build_dataframe/transit'\n",
    "    \n",
    "elif ENVIRONMENT_NAME in ('oliv', 'olivier'):    \n",
    "    ENVIRONMENT_NAME = 'olivier'\n",
    "    raise Error(f'Path settings not yet implemented for environment: {ENVIRONMNENT_NAME}')    \n",
    "# ~~~ Unrecognized platform\n",
    "else:\n",
    "    raise Error('Failed to figure out whether this notebook is running on a remote platform or not !')\n",
    "    \n",
    "print(f'Path setings initialized for environment: {ENVIRONMENT_NAME}')"
   ]
  },
  {
   "cell_type": "markdown",
   "metadata": {},
   "source": [
    "## Initialization for Custom Libraries"
   ]
  },
  {
   "cell_type": "code",
   "execution_count": 4,
   "metadata": {},
   "outputs": [
    {
     "name": "stdout",
     "output_type": "stream",
     "text": [
      "INFO: Project source directory added to PYTHONPATH.\n"
     ]
    }
   ],
   "source": [
    "#~~~~~~~~~~~~~~~~~~~~~~~~~~~~~~~~~~~~~~~~~~~~~~~~~~~~~~~~~~#\n",
    "# Initialization for Custom Librairies\n",
    "#~~~~~~~~~~~~~~~~~~~~~~~~~~~~~~~~~~~~~~~~~~~~~~~~~~~~~~~~~~#\n",
    "\n",
    "# Retrieving paths\n",
    "srcDir = '../../../../lib'\n",
    "\n",
    "if srcDir and os.path.isdir(srcDir):\n",
    "    if srcDir not in sys.path:\n",
    "        sys.path.append(srcDir)\n",
    "        print('INFO: Project source directory added to PYTHONPATH.')\n",
    "else:\n",
    "    raise Error('Invalid value for variable <srcDir>')"
   ]
  },
  {
   "cell_type": "markdown",
   "metadata": {},
   "source": [
    "# Load Mushrooms dataframe"
   ]
  },
  {
   "cell_type": "code",
   "execution_count": 5,
   "metadata": {},
   "outputs": [
    {
     "name": "stdout",
     "output_type": "stream",
     "text": [
      "\n",
      "Loading DataFrame from csv file:  mushrooms.csv  ...\n",
      "Load: done.\n"
     ]
    }
   ],
   "source": [
    "#~~~~~~~~~~~~~~~~~~~~~~~~~~~~~~~~~~~~~~~~~~~~~~~~~~~~~~~~~~#\n",
    "# Load Mushrooms dataframe\n",
    "#~~~~~~~~~~~~~~~~~~~~~~~~~~~~~~~~~~~~~~~~~~~~~~~~~~~~~~~~~~#\n",
    "\n",
    "print('\\nLoading DataFrame from csv file: ', MUSHROOMS_CSV_FILENAME, ' ...')\n",
    "df_mushrooms = pd.read_csv( \\\n",
    "      filepath_or_buffer = os.path.join(CSV_SRC_DIR, MUSHROOMS_CSV_FILENAME)\n",
    "   ,  sep    = ','\n",
    "   ,  header = 0\n",
    ")\n",
    "print('Load: done.')"
   ]
  },
  {
   "cell_type": "markdown",
   "metadata": {},
   "source": [
    "# Create Genus"
   ]
  },
  {
   "cell_type": "code",
   "execution_count": 6,
   "metadata": {
    "colab": {
     "base_uri": "https://localhost:8080/"
    },
    "executionInfo": {
     "elapsed": 90140,
     "status": "ok",
     "timestamp": 1617138617796,
     "user": {
      "displayName": "Mushroom Recognition",
      "photoUrl": "",
      "userId": "12626355061292107466"
     },
     "user_tz": -120
    },
    "id": "B-ob0_KtA1Xo",
    "outputId": "2da7c9ba-a5b1-48b0-c4de-92bc8358ddc6"
   },
   "outputs": [
    {
     "name": "stdout",
     "output_type": "stream",
     "text": [
      "[step]: Create GENUS\n",
      "\n",
      "Creating GENUS DataFrame from MUSHROOMS dataframe...\n",
      "\n",
      "DataFrame \"mushrooms\" info:\n",
      "\tshape  :  (3536224, 39)\n",
      "\tcolumns:  Index(['obs_id', 'obs_date', 'is_collection_location', 'confidence',\n",
      "       'obs_views', 'consensus_id', 'consensus_name', 'consensus_rank',\n",
      "       'consensus_synonym_id', 'location_id', 'location_name',\n",
      "       'primary_image_id', 'primary_image_date', 'primary_image_license',\n",
      "       'primary_image_quality', 'taxon_id', 'taxon_name', 'taxon_rank',\n",
      "       'deprecated', 'misspelled', 'domain', 'kingdom', 'phylum', 'class',\n",
      "       'order', 'family', 'image_id', 'image_date', 'image_notes',\n",
      "       'image_quality', 'image_views', 'image_ok_for_export', 'image_license',\n",
      "       'image_content_type', 'image_width', 'image_height', 'image_url',\n",
      "       'image_type', 'image_format'],\n",
      "      dtype='object')\n",
      "\n",
      "DataFrame \"genus\" info:\n",
      "\tshape  :  (160143, 39)\n",
      "\tcolumns:  Index(['obs_id', 'obs_date', 'is_collection_location', 'confidence',\n",
      "       'obs_views', 'consensus_id', 'consensus_name', 'consensus_rank',\n",
      "       'consensus_synonym_id', 'location_id', 'location_name',\n",
      "       'primary_image_id', 'primary_image_date', 'primary_image_license',\n",
      "       'primary_image_quality', 'taxon_id', 'taxon_name', 'taxon_rank',\n",
      "       'deprecated', 'misspelled', 'domain', 'kingdom', 'phylum', 'class',\n",
      "       'order', 'family', 'image_id', 'image_date', 'image_notes',\n",
      "       'image_quality', 'image_views', 'image_ok_for_export', 'image_license',\n",
      "       'image_content_type', 'image_width', 'image_height', 'image_url',\n",
      "       'image_type', 'image_format'],\n",
      "      dtype='object')\n",
      "\n",
      "GENUS dataframe created.\n"
     ]
    }
   ],
   "source": [
    "#~~~~~~~~~~~~~~~~~~~~~~~~~~~~~~~~~~~~~~~~~~~~~~~~~~~~~~~~~~#\n",
    "# Create Genus\n",
    "#~~~~~~~~~~~~~~~~~~~~~~~~~~~~~~~~~~~~~~~~~~~~~~~~~~~~~~~~~~#\n",
    "\n",
    "from datasource.dataframe.genus.creation import create_genus_from_mushrooms\n",
    "\n",
    "print('[step]: Create GENUS')\n",
    "\n",
    "print('\\nCreating GENUS DataFrame from MUSHROOMS dataframe...')\n",
    "df_genus = create_genus_from_mushrooms(df_mushrooms)\n",
    "print('\\nGENUS dataframe created.')\n",
    "\n",
    "# From here \"mushrooms\" dataframe is no more needed\n",
    "del df_mushrooms"
   ]
  },
  {
   "cell_type": "markdown",
   "metadata": {},
   "source": [
    "# Clean Genus"
   ]
  },
  {
   "cell_type": "code",
   "execution_count": 7,
   "metadata": {},
   "outputs": [
    {
     "name": "stdout",
     "output_type": "stream",
     "text": [
      "[step]: Clean GENUS\n",
      "DataFrame info:\n",
      "\tshape  :  (160143, 39)\n",
      "\tcolumns:  Index(['obs_id', 'obs_date', 'is_collection_location', 'confidence',\n",
      "       'obs_views', 'consensus_id', 'consensus_name', 'consensus_rank',\n",
      "       'consensus_synonym_id', 'location_id', 'location_name',\n",
      "       'primary_image_id', 'primary_image_date', 'primary_image_license',\n",
      "       'primary_image_quality', 'taxon_id', 'taxon_name', 'taxon_rank',\n",
      "       'deprecated', 'misspelled', 'domain', 'kingdom', 'phylum', 'class',\n",
      "       'order', 'family', 'image_id', 'image_date', 'image_notes',\n",
      "       'image_quality', 'image_views', 'image_ok_for_export', 'image_license',\n",
      "       'image_content_type', 'image_width', 'image_height', 'image_url',\n",
      "       'image_type', 'image_format'],\n",
      "      dtype='object')\n",
      "\n",
      "[*] Identifying columns with null values:\n",
      "\n",
      "confidence                  309\n",
      "primary_image_date           28\n",
      "primary_image_license        28\n",
      "primary_image_quality    132220\n",
      "domain                     4729\n",
      "kingdom                    3118\n",
      "phylum                     3134\n",
      "class                      4717\n",
      "order                      5262\n",
      "family                     6239\n",
      "image_notes              143114\n",
      "image_quality            153257\n",
      "image_width                 355\n",
      "image_height                355\n",
      "dtype: int64\n",
      "\n",
      "[*] Removing unneeded columns ...\n",
      "(reason: contains null values)\n",
      "\n",
      "Columns to be removed:\n",
      "['primary_image_date', 'primary_image_license', 'primary_image_quality', 'image_quality', 'image_width', 'image_height']\n",
      "\n",
      "[*] Removing unneeded columns ...\n",
      "(reason: duplicated values)\n",
      "\n",
      "Columns to be removed:\n",
      "['consensus_id', 'consensus_rank', 'consensus_name', 'consensus_synonym_id']\n",
      "\n",
      "[*] Removing unneeded columns ...\n",
      "(reason: columns not needed)\n",
      "\n",
      "Columns to be removed:\n",
      "['primary_image_id', 'image_content_type', 'deprecated', 'misspelled']\n",
      "genus [#names]:  1096\n",
      "genus [#id]   :  1110\n",
      "\n",
      "[*] Searching for genus names associated with multiple Ids ...\n",
      "Genus names associated with multiple ids:\n",
      "taxon_name\n",
      "Agrocybe       2\n",
      "Amauroderma    2\n",
      "Clitocybe      2\n",
      "Fayodia        2\n",
      "Hemimycena     2\n",
      "Isaria         2\n",
      "Mycena         2\n",
      "Myrothecium    2\n",
      "Nectria        2\n",
      "Omphalina      2\n",
      "Phellinus      2\n",
      "Pleurotus      2\n",
      "Psathyrella    2\n",
      "Xerula         2\n",
      "Name: taxon_id, dtype: int64\n",
      "\n",
      "[*] Searching for genus ids associated with multiple Names ...\n",
      "Genus ids associated with multiple names:\n",
      "Series([], Name: taxon_name, dtype: int64)\n",
      "name:  Agrocybe\n",
      "name:  Amauroderma\n",
      "name:  Clitocybe\n",
      "name:  Fayodia\n",
      "name:  Hemimycena\n",
      "name:  Isaria\n",
      "name:  Mycena\n",
      "name:  Myrothecium\n",
      "name:  Nectria\n",
      "name:  Omphalina\n",
      "name:  Phellinus\n",
      "name:  Pleurotus\n",
      "name:  Psathyrella\n",
      "name:  Xerula\n",
      "\n",
      "genus [#names]:  1096\n",
      "genus [#id]   :  1096\n",
      "\n",
      "[*] Filtering microscopic mushrooms ...\n",
      "\n",
      "Cleaning: [ OK ]\n"
     ]
    }
   ],
   "source": [
    "#~~~~~~~~~~~~~~~~~~~~~~~~~~~~~~~~~~~~~~~~~~~~~~~~~~~~~~~~~~#\n",
    "# Clean Genus\n",
    "#~~~~~~~~~~~~~~~~~~~~~~~~~~~~~~~~~~~~~~~~~~~~~~~~~~~~~~~~~~#\n",
    "\n",
    "from datasource.dataframe.genus.creation import clean_genus\n",
    "\n",
    "print('[step]: Clean GENUS')\n",
    "\n",
    "errCnt = clean_genus(df_genus)\n",
    "if (errCnt == 0):\n",
    "    print('\\nCleaning: [ OK ]')\n",
    "else:\n",
    "    print('\\nCleaning: [ FAILED ]')\n",
    "    print(errCnt, ' errors')"
   ]
  },
  {
   "cell_type": "markdown",
   "metadata": {},
   "source": [
    "# Export Genus dataframe to csv file"
   ]
  },
  {
   "cell_type": "code",
   "execution_count": 8,
   "metadata": {},
   "outputs": [
    {
     "name": "stdout",
     "output_type": "stream",
     "text": [
      "[step]: Exporting resulting DataFrame to csv file\n",
      "created csv file:  /resource/project_mushroom/work/build_dataframe/transit/genus.csv\n"
     ]
    }
   ],
   "source": [
    "#~~~~~~~~~~~~~~~~~~~~~~~~~~~~~~~~~~~~~~~~~~~~~~~~~~~~~~~~~~#\n",
    "# Export Genus dataframe to csv file\n",
    "#~~~~~~~~~~~~~~~~~~~~~~~~~~~~~~~~~~~~~~~~~~~~~~~~~~~~~~~~~~#\n",
    "\n",
    "print('[step]: Exporting resulting DataFrame to csv file')\n",
    "\n",
    "dest_filePath = os.path.join(CSV_DST_DIR, GENUS_CSV_FILENAME)\n",
    "df_genus.to_csv( \\\n",
    "      path_or_buf = dest_filePath\n",
    "   ,  sep         = ','\n",
    "   ,  header      = True\n",
    "   ,  index       = False\n",
    "   ,  mode        = 'w'\n",
    "   ,  encoding    = 'utf-8'\n",
    ")\n",
    "print('created csv file: ', dest_filePath)"
   ]
  }
 ],
 "metadata": {
  "colab": {
   "authorship_tag": "ABX9TyNHOk0GZBXKQtcsYuswhrl7",
   "collapsed_sections": [],
   "name": "01_create_genus.ipynb",
   "provenance": []
  },
  "kernelspec": {
   "display_name": "Python 3",
   "language": "python",
   "name": "python3"
  },
  "language_info": {
   "codemirror_mode": {
    "name": "ipython",
    "version": 3
   },
   "file_extension": ".py",
   "mimetype": "text/x-python",
   "name": "python",
   "nbconvert_exporter": "python",
   "pygments_lexer": "ipython3",
   "version": "3.9.4"
  }
 },
 "nbformat": 4,
 "nbformat_minor": 1
}
