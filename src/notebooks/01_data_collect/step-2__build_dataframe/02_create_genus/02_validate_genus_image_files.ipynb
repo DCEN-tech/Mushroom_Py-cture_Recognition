{
 "cells": [
  {
   "cell_type": "markdown",
   "metadata": {},
   "source": [
    "<table style='border: 3px solid black; width: 100%;'>\n",
    "    <tr>\n",
    "        <th style='width: 5%;'>&nbsp;</th>\n",
    "        <th style='width: 15%;'><img src='../../../../../resources/images/amanita_muscaria.png'></th>\n",
    "        <th><center><h1 style='font-size: 38px;'>[ MUSHROOM Project ]</h1></center></th>\n",
    "        <th style='width: 5%'>&nbsp;</th>\n",
    "    </tr>\n",
    "    <tr>\n",
    "        <td>&nbsp;</td>\n",
    "        <td>&nbsp;</td>\n",
    "        <td>Project type: <span style='color: blue;'><strong>Image Classification</strong></span></td>        \n",
    "        <td>&nbsp;</td>\n",
    "    </tr>\n",
    "    <tr>\n",
    "        <td>&nbsp;</td>\n",
    "        <td>&nbsp;</td>\n",
    "        <td>Autors: </span><strong><span style='color: blue;'>Sabah ABIH</span> / <span style='color: blue;'>Olivier CONSTANTIN</span> / <span style='color: blue;'>David CHARLES-ELIE-NELSON</span></strong></td>\n",
    "        <td>&nbsp;</td>\n",
    "    </tr>\n",
    "</table>\n",
    "\n",
    "<hr style=\"border-width: 4px ; border-color: #0C22D7\">\n",
    "\n",
    "# [Build DataFrame]: ---( 03 - Validate Genus image files )---</h1></td>\n",
    "\n",
    "<hr style=\"border-width: 4px ; border-color: #0C22D7\">"
   ]
  },
  {
   "cell_type": "markdown",
   "metadata": {},
   "source": [
    "# Initialization"
   ]
  },
  {
   "cell_type": "markdown",
   "metadata": {},
   "source": [
    "## Import Standard Libraries"
   ]
  },
  {
   "cell_type": "code",
   "execution_count": 1,
   "metadata": {},
   "outputs": [
    {
     "name": "stdout",
     "output_type": "stream",
     "text": [
      "Pandas:  1.2.4\n"
     ]
    }
   ],
   "source": [
    "#~~~~~~~~~~~~~~~~~~~~~~~~~~~~~~~~~~~~~~~~~~~~~~~~~~~~~~~~~~#\n",
    "# Import Standard Libraries\n",
    "#~~~~~~~~~~~~~~~~~~~~~~~~~~~~~~~~~~~~~~~~~~~~~~~~~~~~~~~~~~#\n",
    "\n",
    "import os\n",
    "import sys\n",
    "\n",
    "# Pandas\n",
    "import pandas as pd\n",
    "print('Pandas: ', pd.__version__)"
   ]
  },
  {
   "cell_type": "markdown",
   "metadata": {},
   "source": [
    "## Settings"
   ]
  },
  {
   "cell_type": "markdown",
   "metadata": {},
   "source": [
    "### Environment Name"
   ]
  },
  {
   "cell_type": "code",
   "execution_count": 2,
   "metadata": {},
   "outputs": [
    {
     "name": "stdout",
     "output_type": "stream",
     "text": [
      "Enter the environment name:dad\n"
     ]
    }
   ],
   "source": [
    "#~~~~~~~~~~~~~~~~~~~~~~~~~~~~~~~~~~~~~~~~~~~~~~~~~~~~~~~~~~#\n",
    "# Environment Name\n",
    "#~~~~~~~~~~~~~~~~~~~~~~~~~~~~~~~~~~~~~~~~~~~~~~~~~~~~~~~~~~#\n",
    "\n",
    "# Asking for the environment name (on which this notebook will be executed)\n",
    "ENVIRONMENT_NAME = input (\"Enter the environment name:\").lower()\n",
    "    # possible values:\n",
    "    #    'gc' | 'googlecolab' | 'google colab' : any of this value will be equivalent to the remote platform: 'Google Colab'\n",
    "    #    'dad'  | 'david'                       : for the local platform whose owner is David\n",
    "    #    'oliv' | 'olivier'                     : for the local platform whose owner is Olivier"
   ]
  },
  {
   "cell_type": "markdown",
   "metadata": {},
   "source": [
    "### Path Settings"
   ]
  },
  {
   "cell_type": "code",
   "execution_count": 3,
   "metadata": {},
   "outputs": [
    {
     "name": "stdout",
     "output_type": "stream",
     "text": [
      "Path setings initialized for environment: david\n"
     ]
    }
   ],
   "source": [
    "#~~~~~~~~~~~~~~~~~~~~~~~~~~~~~~~~~~~~~~~~~~~~~~~~~~~~~~~~~~#\n",
    "# Path Settings\n",
    "#~~~~~~~~~~~~~~~~~~~~~~~~~~~~~~~~~~~~~~~~~~~~~~~~~~~~~~~~~~#\n",
    "\n",
    "GENUS_CSV_FILENAME = 'genus.csv'\n",
    "\n",
    "# ~~~ Setting paths according the environment name\n",
    "#\n",
    "# GOOGLE COLAB path settings\n",
    "if ENVIRONMENT_NAME in ('gc', 'googlecolab', 'google colab'):\n",
    "    \n",
    "    ENVIRONMENT_NAME = 'google colab'\n",
    "    raise Error(f'Path settings not yet implemented for environment: {ENVIRONMNENT_NAME}')\n",
    "\n",
    "    GDRIVE_MOUNT_POINT = '/content/drive'\n",
    "    CSV_SRC_DIR='/content/drive/My Drive/Mushroom_project/datasource/mushroomObserver/dataframe/orig'\n",
    "    CSV_DST_DIR='/content/drive/My Drive/Mushroom_project/datasource/mushroomObserver/dataframe/custom'\n",
    "    \n",
    "    # Specific initialization for GOOGLE COLAB platform\n",
    "    #\n",
    "    # Import Libraries\n",
    "    from google.colab import drive\n",
    "    # For Google Colab only !\n",
    "    gdriveMountPath = PATH_SETTINGS.get('GOOGLE_DRIVE_MOUNT_POINT')\n",
    "    if gdriveMountPath:\n",
    "        # Mount the google drive if not already done\n",
    "        if not os.path.isdir(gdriveMountPath):\n",
    "            drive.mount(gdriveMountPath)\n",
    "            print('Google drive mounted !')\n",
    "    else:\n",
    "        raise Error('Failed to retrieve the Google Drive mount point path !')    \n",
    "    \n",
    "# ~~~ DAD custom path settings\n",
    "elif ENVIRONMENT_NAME in ('dad', 'david'):\n",
    "    \n",
    "    ENVIRONMENT_NAME = 'david'\n",
    "    \n",
    "    CSV_SRC_DIR    = '/resource/project_mushroom/work/build_dataframe/transit'\n",
    "    CSV_DST_DIR    = '/resource/project_mushroom/work/build_dataframe/clean'\n",
    "    IMAGE_ROOT_DIR = '/resource/project_mushroom/datasource/mushroomObserver/images'\n",
    "    \n",
    "    \n",
    "elif ENVIRONMENT_NAME in ('oliv', 'olivier'):    \n",
    "    ENVIRONMENT_NAME = 'olivier'\n",
    "    raise Error(f'Path settings not yet implemented for environment: {ENVIRONMNENT_NAME}')    \n",
    "# ~~~ Unrecognized platform\n",
    "else:\n",
    "    raise Error('Failed to figure out whether this notebook is running on a remote platform or not !')\n",
    "    \n",
    "print(f'Path setings initialized for environment: {ENVIRONMENT_NAME}')"
   ]
  },
  {
   "cell_type": "markdown",
   "metadata": {},
   "source": [
    "## Initialization for Custom Libraries"
   ]
  },
  {
   "cell_type": "code",
   "execution_count": 4,
   "metadata": {},
   "outputs": [
    {
     "name": "stdout",
     "output_type": "stream",
     "text": [
      "INFO: Project source directory added to PYTHONPATH.\n"
     ]
    }
   ],
   "source": [
    "#~~~~~~~~~~~~~~~~~~~~~~~~~~~~~~~~~~~~~~~~~~~~~~~~~~~~~~~~~~#\n",
    "# Initialization for Custom Librairies\n",
    "#~~~~~~~~~~~~~~~~~~~~~~~~~~~~~~~~~~~~~~~~~~~~~~~~~~~~~~~~~~#\n",
    "\n",
    "# Retrieving paths\n",
    "srcDir = '../../../../lib'\n",
    "\n",
    "if srcDir and os.path.isdir(srcDir):\n",
    "    if srcDir not in sys.path:\n",
    "        sys.path.append(srcDir)\n",
    "        print('INFO: Project source directory added to PYTHONPATH.')\n",
    "else:\n",
    "    raise Error('Invalid value for variable <srcDir>')"
   ]
  },
  {
   "cell_type": "markdown",
   "metadata": {},
   "source": [
    "# Load Genus dataframe"
   ]
  },
  {
   "cell_type": "code",
   "execution_count": 5,
   "metadata": {},
   "outputs": [
    {
     "name": "stdout",
     "output_type": "stream",
     "text": [
      "\n",
      "~~~~~~~~~~~~~~~~~~~~~~~~~~~~~~~\n",
      "=== Loading GENUS DataFrame ===\n",
      "~~~~~~~~~~~~~~~~~~~~~~~~~~~~~~~\n",
      "Load: done.\n",
      "\n",
      "DataFrame shape: \n",
      "(160143, 25)\n",
      "\n",
      "Dataframe info: \n",
      "<class 'pandas.core.frame.DataFrame'>\n",
      "RangeIndex: 160143 entries, 0 to 160142\n",
      "Data columns (total 25 columns):\n",
      " #   Column                  Non-Null Count   Dtype  \n",
      "---  ------                  --------------   -----  \n",
      " 0   obs_id                  160143 non-null  int64  \n",
      " 1   obs_date                160143 non-null  object \n",
      " 2   is_collection_location  160143 non-null  bool   \n",
      " 3   confidence              159834 non-null  float64\n",
      " 4   obs_views               160143 non-null  int64  \n",
      " 5   location_id             160143 non-null  int64  \n",
      " 6   location_name           160143 non-null  object \n",
      " 7   taxon_id                160143 non-null  int64  \n",
      " 8   taxon_name              160143 non-null  object \n",
      " 9   taxon_rank              160143 non-null  object \n",
      " 10  domain                  155414 non-null  object \n",
      " 11  kingdom                 157025 non-null  object \n",
      " 12  phylum                  157009 non-null  object \n",
      " 13  class                   155426 non-null  object \n",
      " 14  order                   154881 non-null  object \n",
      " 15  family                  153904 non-null  object \n",
      " 16  image_id                160143 non-null  int64  \n",
      " 17  image_date              160143 non-null  object \n",
      " 18  image_notes             17029 non-null   object \n",
      " 19  image_views             160143 non-null  int64  \n",
      " 20  image_ok_for_export     160143 non-null  bool   \n",
      " 21  image_license           160143 non-null  object \n",
      " 22  image_url               160143 non-null  object \n",
      " 23  image_type              160143 non-null  object \n",
      " 24  image_format            160143 non-null  int64  \n",
      "dtypes: bool(2), float64(1), int64(7), object(15)\n",
      "memory usage: 28.4+ MB\n",
      "None\n"
     ]
    }
   ],
   "source": [
    "#~~~~~~~~~~~~~~~~~~~~~~~~~~~~~~~~~~~~~~~~~~~~~~~~~~~~~~~~~~#\n",
    "# Loading DataFrame\n",
    "#~~~~~~~~~~~~~~~~~~~~~~~~~~~~~~~~~~~~~~~~~~~~~~~~~~~~~~~~~~#\n",
    "\n",
    "csvFilepath = os.path.join(CSV_SRC_DIR, GENUS_CSV_FILENAME)\n",
    "\n",
    "print('')\n",
    "print('~~~~~~~~~~~~~~~~~~~~~~~~~~~~~~~')\n",
    "print('=== Loading GENUS DataFrame ===')\n",
    "print('~~~~~~~~~~~~~~~~~~~~~~~~~~~~~~~')\n",
    "df_genus = pd.read_csv( \\\n",
    "      filepath_or_buffer = csvFilepath\n",
    "   ,  sep    = ','\n",
    "   ,  header = 0\n",
    ")\n",
    "print('Load: done.')\n",
    "\n",
    "print('\\nDataFrame shape: ')\n",
    "print(df_genus.shape)\n",
    "print('\\nDataframe info: ')\n",
    "print(df_genus.info())"
   ]
  },
  {
   "cell_type": "markdown",
   "metadata": {},
   "source": [
    "# Add image_filepath column"
   ]
  },
  {
   "cell_type": "code",
   "execution_count": 6,
   "metadata": {},
   "outputs": [
    {
     "name": "stdout",
     "output_type": "stream",
     "text": [
      "[step]: Add image_filepath column\n",
      "\n",
      "Preprocessing step: [ Adding column \"image_filepathid\" ] in progress...\n",
      "Results:\n",
      "   Dataframe cols: Index(['obs_id', 'obs_date', 'is_collection_location', 'confidence',\n",
      "       'obs_views', 'location_id', 'location_name', 'taxon_id', 'taxon_name',\n",
      "       'taxon_rank', 'domain', 'kingdom', 'phylum', 'class', 'order', 'family',\n",
      "       'image_id', 'image_date', 'image_notes', 'image_views',\n",
      "       'image_ok_for_export', 'image_license', 'image_url', 'image_type',\n",
      "       'image_format', 'image_filepath'],\n",
      "      dtype='object')\n",
      "Done.\n"
     ]
    }
   ],
   "source": [
    "#~~~~~~~~~~~~~~~~~~~~~~~~~~~~~~~~~~~~~~~~~~~~~~~~~~~~~~~~~~#\n",
    "# Add image_filepath column\n",
    "#~~~~~~~~~~~~~~~~~~~~~~~~~~~~~~~~~~~~~~~~~~~~~~~~~~~~~~~~~~#\n",
    "\n",
    "from datasource.dataframe.genus.preprocessing import add_col_filepath\n",
    "\n",
    "print('[step]: Add image_filepath column')\n",
    "add_col_filepath(df_genus, image_root_dir = IMAGE_ROOT_DIR)"
   ]
  },
  {
   "cell_type": "markdown",
   "metadata": {},
   "source": [
    "# Data Validation: checking correspondance DF <--> Image files"
   ]
  },
  {
   "cell_type": "code",
   "execution_count": 7,
   "metadata": {},
   "outputs": [
    {
     "name": "stdout",
     "output_type": "stream",
     "text": [
      "Found   files count:  160118\n",
      "Missing files count:  25\n",
      "\n",
      "Displaying the 10 first missing image files in GENUS dataframe:\n",
      "        image_id  \\\n",
      "99331    1020045   \n",
      "112190    774040   \n",
      "112191    774041   \n",
      "112192    774042   \n",
      "112193    774043   \n",
      "112208    774097   \n",
      "112209    774098   \n",
      "112210    774099   \n",
      "112213    774105   \n",
      "112214    774106   \n",
      "\n",
      "                                                                         image_filepath  \n",
      "99331   /resource/project_mushroom/datasource/mushroomObserver/images/00681/1020045.jpg  \n",
      "112190   /resource/project_mushroom/datasource/mushroomObserver/images/00517/774040.jpg  \n",
      "112191   /resource/project_mushroom/datasource/mushroomObserver/images/00517/774041.jpg  \n",
      "112192   /resource/project_mushroom/datasource/mushroomObserver/images/00517/774042.jpg  \n",
      "112193   /resource/project_mushroom/datasource/mushroomObserver/images/00517/774043.jpg  \n",
      "112208   /resource/project_mushroom/datasource/mushroomObserver/images/00517/774097.jpg  \n",
      "112209   /resource/project_mushroom/datasource/mushroomObserver/images/00517/774098.jpg  \n",
      "112210   /resource/project_mushroom/datasource/mushroomObserver/images/00517/774099.jpg  \n",
      "112213   /resource/project_mushroom/datasource/mushroomObserver/images/00517/774105.jpg  \n",
      "112214   /resource/project_mushroom/datasource/mushroomObserver/images/00517/774106.jpg  \n"
     ]
    }
   ],
   "source": [
    "#~~~~~~~~~~~~~~~~~~~~~~~~~~~~~~~~~~~~~~~~~~~~~~~~~~~~~~~~~~#\n",
    "# Checking correspondance DF <--> Image File\n",
    "#~~~~~~~~~~~~~~~~~~~~~~~~~~~~~~~~~~~~~~~~~~~~~~~~~~~~~~~~~~#\n",
    "\n",
    "from datasource.dataframe.dataframe import checkImageFiles\n",
    "\n",
    "idxMissingFiles = checkImageFiles(\n",
    "        dataframe        = df_genus\n",
    "    ,   col_filename     = 'image_filepath'\n",
    "    ,   imageFileRootDir = IMAGE_ROOT_DIR\n",
    ")\n",
    "\n",
    "if ( df_genus.shape[0] > 0 ):\n",
    "    missingCnt = df_genus[ idxMissingFiles ].shape[0]\n",
    "    foundCnt   = df_genus.shape[0] - missingCnt\n",
    "    print(f'Found   files count:  {foundCnt}')\n",
    "    print(f'Missing files count:  {missingCnt}')\n",
    "    \n",
    "# Displaying the 10 first missing files\n",
    "if (missingCnt > 0):\n",
    "    print('\\nDisplaying the 10 first missing image files in GENUS dataframe:')\n",
    "    pd.set_option('display.max_colwidth', None)\n",
    "    print(df_genus[ idxMissingFiles ][['image_id', 'image_filepath']].head(10))"
   ]
  },
  {
   "cell_type": "markdown",
   "metadata": {},
   "source": [
    "# Removing rows with missing image file from Genus dataframe"
   ]
  },
  {
   "cell_type": "code",
   "execution_count": 8,
   "metadata": {},
   "outputs": [
    {
     "name": "stdout",
     "output_type": "stream",
     "text": [
      "Shape BEFORE filtering:  (160143, 26)\n",
      "Shape AFTER filtering:  (160118, 26)\n"
     ]
    }
   ],
   "source": [
    "#~~~~~~~~~~~~~~~~~~~~~~~~~~~~~~~~~~~~~~~~~~~~~~~~~~~~~~~~~~#\n",
    "# Removing rows with invalid file \n",
    "#~~~~~~~~~~~~~~~~~~~~~~~~~~~~~~~~~~~~~~~~~~~~~~~~~~~~~~~~~~#\n",
    "\n",
    "print('Shape BEFORE filtering: ', df_genus.shape)\n",
    "\n",
    "# Removing unwanted rows\n",
    "df_genus = df_genus[ ~idxMissingFiles ]\n",
    "\n",
    "print('Shape AFTER filtering: ', df_genus.shape)"
   ]
  },
  {
   "cell_type": "markdown",
   "metadata": {},
   "source": [
    "# Export Genus dataframe to csv file"
   ]
  },
  {
   "cell_type": "code",
   "execution_count": 9,
   "metadata": {},
   "outputs": [
    {
     "name": "stdout",
     "output_type": "stream",
     "text": [
      "[step]: Exporting resulting DataFrame to csv file\n",
      "created csv file:  /resource/project_mushroom/work/build_dataframe/clean/genus.csv\n"
     ]
    }
   ],
   "source": [
    "#~~~~~~~~~~~~~~~~~~~~~~~~~~~~~~~~~~~~~~~~~~~~~~~~~~~~~~~~~~#\n",
    "# Export Genus dataframe to csv file\n",
    "#~~~~~~~~~~~~~~~~~~~~~~~~~~~~~~~~~~~~~~~~~~~~~~~~~~~~~~~~~~#\n",
    "\n",
    "print('[step]: Exporting resulting DataFrame to csv file')\n",
    "\n",
    "dest_filePath = os.path.join(CSV_DST_DIR, GENUS_CSV_FILENAME)\n",
    "df_genus.to_csv( \\\n",
    "      path_or_buf = dest_filePath\n",
    "   ,  sep         = ','\n",
    "   ,  header      = True\n",
    "   ,  index       = False\n",
    "   ,  mode        = 'w'\n",
    "   ,  encoding    = 'utf-8'\n",
    ")\n",
    "print('created csv file: ', dest_filePath)"
   ]
  }
 ],
 "metadata": {
  "colab": {
   "authorship_tag": "ABX9TyMdW6OgNDcYs7vmVby6aLTu",
   "collapsed_sections": [],
   "name": "02_clean_genus.ipynb",
   "provenance": []
  },
  "kernelspec": {
   "display_name": "Python 3",
   "language": "python",
   "name": "python3"
  },
  "language_info": {
   "codemirror_mode": {
    "name": "ipython",
    "version": 3
   },
   "file_extension": ".py",
   "mimetype": "text/x-python",
   "name": "python",
   "nbconvert_exporter": "python",
   "pygments_lexer": "ipython3",
   "version": "3.9.4"
  }
 },
 "nbformat": 4,
 "nbformat_minor": 1
}
