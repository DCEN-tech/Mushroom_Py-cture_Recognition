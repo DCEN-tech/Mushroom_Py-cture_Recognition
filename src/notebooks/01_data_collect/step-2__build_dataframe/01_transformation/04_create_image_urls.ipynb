{
 "cells": [
  {
   "cell_type": "markdown",
   "metadata": {},
   "source": [
    "<table style='border: 3px solid black; width: 100%;'>\n",
    "    <tr>\n",
    "        <th style='width: 5%;'>&nbsp;</th>\n",
    "        <th style='width: 15%;'><img src='../../../../../resources/images/amanita_muscaria.png'></th>\n",
    "        <th><center><h1 style='font-size: 38px;'>[ MUSHROOM Project ]</h1></center></th>\n",
    "        <th style='width: 5%'>&nbsp;</th>\n",
    "    </tr>\n",
    "    <tr>\n",
    "        <td>&nbsp;</td>\n",
    "        <td>&nbsp;</td>\n",
    "        <td>Project type: <span style='color: blue;'><strong>Image Classification</strong></span></td>        \n",
    "        <td>&nbsp;</td>\n",
    "    </tr>\n",
    "    <tr>\n",
    "        <td>&nbsp;</td>\n",
    "        <td>&nbsp;</td>\n",
    "        <td>Autors: </span><strong><span style='color: blue;'>Sabah ABIH</span> / <span style='color: blue;'>Olivier CONSTANTIN</span> / <span style='color: blue;'>David CHARLES-ELIE-NELSON</span></strong></td>\n",
    "        <td>&nbsp;</td>\n",
    "    </tr>\n",
    "</table>\n",
    "\n",
    "<hr style=\"border-width: 4px ; border-color: #0C22D7\">\n",
    "\n",
    "# [Build DataFrame]: ---( 04 - Create image_urls )---</h1></td>\n",
    "\n",
    "<hr style=\"border-width: 4px ; border-color: #0C22D7\">"
   ]
  },
  {
   "cell_type": "markdown",
   "metadata": {},
   "source": [
    "# Initialization"
   ]
  },
  {
   "cell_type": "markdown",
   "metadata": {},
   "source": [
    "## Import Standard Libraries"
   ]
  },
  {
   "cell_type": "code",
   "execution_count": 1,
   "metadata": {},
   "outputs": [
    {
     "name": "stdout",
     "output_type": "stream",
     "text": [
      "Pandas:  1.2.4\n"
     ]
    }
   ],
   "source": [
    "#~~~~~~~~~~~~~~~~~~~~~~~~~~~~~~~~~~~~~~~~~~~~~~~~~~~~~~~~~~#\n",
    "# Import Standard Libraries\n",
    "#~~~~~~~~~~~~~~~~~~~~~~~~~~~~~~~~~~~~~~~~~~~~~~~~~~~~~~~~~~#\n",
    "\n",
    "import os\n",
    "\n",
    "import re\n",
    "\n",
    "# Pandas\n",
    "import pandas as pd\n",
    "print('Pandas: ', pd.__version__)"
   ]
  },
  {
   "cell_type": "markdown",
   "metadata": {},
   "source": [
    "## Settings"
   ]
  },
  {
   "cell_type": "markdown",
   "metadata": {},
   "source": [
    "### Environment Name"
   ]
  },
  {
   "cell_type": "code",
   "execution_count": 2,
   "metadata": {},
   "outputs": [
    {
     "name": "stdout",
     "output_type": "stream",
     "text": [
      "Enter the environment name:dad\n"
     ]
    }
   ],
   "source": [
    "#~~~~~~~~~~~~~~~~~~~~~~~~~~~~~~~~~~~~~~~~~~~~~~~~~~~~~~~~~~#\n",
    "# Environment Name\n",
    "#~~~~~~~~~~~~~~~~~~~~~~~~~~~~~~~~~~~~~~~~~~~~~~~~~~~~~~~~~~#\n",
    "\n",
    "# Asking for the environment name (on which this notebook will be executed)\n",
    "ENVIRONMENT_NAME = input (\"Enter the environment name:\").lower()\n",
    "    # possible values:\n",
    "    #    'gc' | 'googlecolab' | 'google colab' : any of this value will be equivalent to the remote platform: 'Google Colab'\n",
    "    #    'dad'  | 'david'                       : for the local platform whose owner is David\n",
    "    #    'oliv' | 'olivier'                     : for the local platform whose owner is Olivier"
   ]
  },
  {
   "cell_type": "markdown",
   "metadata": {},
   "source": [
    "### Path Settings"
   ]
  },
  {
   "cell_type": "code",
   "execution_count": 3,
   "metadata": {},
   "outputs": [
    {
     "name": "stdout",
     "output_type": "stream",
     "text": [
      "Path setings initialized for environment: david\n"
     ]
    }
   ],
   "source": [
    "#~~~~~~~~~~~~~~~~~~~~~~~~~~~~~~~~~~~~~~~~~~~~~~~~~~~~~~~~~~#\n",
    "# Path Settings\n",
    "#~~~~~~~~~~~~~~~~~~~~~~~~~~~~~~~~~~~~~~~~~~~~~~~~~~~~~~~~~~#\n",
    "\n",
    "IMAGE_FILES_CSV_FILENAME    = 'image_files.csv'\n",
    "TAXONS_CSV_FILENAME         = 'taxons.csv'\n",
    "TAXONS_PARENTS_CSV_FILENAME = 'taxon_parents.csv'\n",
    "\n",
    "# ~~~ Setting paths according the environment name\n",
    "#\n",
    "# GOOGLE COLAB path settings\n",
    "if ENVIRONMENT_NAME in ('gc', 'googlecolab', 'google colab'):\n",
    "    \n",
    "    ENVIRONMENT_NAME = 'google colab'\n",
    "    raise Error(f'Path settings not yet implemented for environment: {ENVIRONMNENT_NAME}')\n",
    "\n",
    "    GDRIVE_MOUNT_POINT = '/content/drive'\n",
    "    CSV_SRC_DIR='/content/drive/My Drive/Mushroom_project/datasource/mushroomObserver/dataframe/orig'\n",
    "    CSV_DST_DIR='/content/drive/My Drive/Mushroom_project/datasource/mushroomObserver/dataframe/custom'\n",
    "    \n",
    "    # Specific initialization for GOOGLE COLAB platform\n",
    "    #\n",
    "    # Import Libraries\n",
    "    from google.colab import drive\n",
    "    # For Google Colab only !\n",
    "    gdriveMountPath = PATH_SETTINGS.get('GOOGLE_DRIVE_MOUNT_POINT')\n",
    "    if gdriveMountPath:\n",
    "        # Mount the google drive if not already done\n",
    "        if not os.path.isdir(gdriveMountPath):\n",
    "            drive.mount(gdriveMountPath)\n",
    "            print('Google drive mounted !')\n",
    "    else:\n",
    "        raise Error('Failed to retrieve the Google Drive mount point path !')    \n",
    "    \n",
    "# ~~~ DAD custom path settings\n",
    "elif ENVIRONMENT_NAME in ('dad', 'david'):\n",
    "    \n",
    "    ENVIRONMENT_NAME = 'david'\n",
    "    \n",
    "    CSV_SRC_DIR = '/resource/project_mushroom/work/build_dataframe/raw'\n",
    "    CSV_DST_DIR = '/resource/project_mushroom/work/build_dataframe/transit'\n",
    "    \n",
    "    \n",
    "elif ENVIRONMENT_NAME in ('oliv', 'olivier'):    \n",
    "    ENVIRONMENT_NAME = 'olivier'\n",
    "    raise Error(f'Path settings not yet implemented for environment: {ENVIRONMNENT_NAME}')    \n",
    "# ~~~ Unrecognized platform\n",
    "else:\n",
    "    raise Error('Failed to figure out whether this notebook is running on a remote platform or not !')\n",
    "    \n",
    "print(f'Path setings initialized for environment: {ENVIRONMENT_NAME}')"
   ]
  },
  {
   "cell_type": "markdown",
   "metadata": {},
   "source": [
    "# Create image_urls"
   ]
  },
  {
   "cell_type": "markdown",
   "metadata": {},
   "source": [
    "## Library"
   ]
  },
  {
   "cell_type": "code",
   "execution_count": 4,
   "metadata": {
    "executionInfo": {
     "elapsed": 677,
     "status": "ok",
     "timestamp": 1617106796838,
     "user": {
      "displayName": "Mushroom Recognition",
      "photoUrl": "",
      "userId": "12626355061292107466"
     },
     "user_tz": -120
    },
    "id": "SMBBVW-s9Vm5"
   },
   "outputs": [],
   "source": [
    "#~~~~~~~~~~~~~~~~~~~~~~~~~~~~~~~~~~~~~~~~~~~~~~~~~~~~~~~~~~#\n",
    "# Library\n",
    "#~~~~~~~~~~~~~~~~~~~~~~~~~~~~~~~~~~~~~~~~~~~~~~~~~~~~~~~~~~#\n",
    "\n",
    "   #\n",
    "   # Cette fonction permet d'extraire l'extension depuis le nom d'un fichier \n",
    "   # (le '.' ne sera pas inclus dans le résultat).\n",
    "   # Par exemple:\n",
    "   #    Si 'image.jpg' est fourni en argument à la fonction, alors la fonction renverra 'jpg'\n",
    "   #\n",
    "def getExt(text):\n",
    "    pattern = r'.+\\.([^\\.]+)$'\n",
    "    if type(text) is str:\n",
    "        match = re.match(pattern, text)\n",
    "        if match:\n",
    "            return match.group(1)\n",
    "    return None\n",
    "\n",
    "\n",
    "   #\n",
    "   # Cette fonction permet d'extraire le format de l'image depuis l'url de l'image.\n",
    "   # La fonction supposera que l'URL de l'image est de la forme suivante:\n",
    "   #    .../images/{format}/...\n",
    "   # avec\n",
    "   #     format ayant pour valeur l'une des valeurs suivantes:\n",
    "   #     340, 640, 960, 1280,\n",
    "   # Par exemple:\n",
    "   #    Si 'image.jpg' est fourni en argument à la fonction, alors la fonction renverra 'jpg'\n",
    "   #\n",
    "def getFormat(text):\n",
    "    pattern = r'.+/images/([^/]+)/.+'\n",
    "    if type(text) is str:\n",
    "        match = re.match(pattern, text)\n",
    "        if match:\n",
    "            return match.group(1)\n",
    "    return None\n"
   ]
  },
  {
   "cell_type": "markdown",
   "metadata": {},
   "source": [
    "## Create image_urls"
   ]
  },
  {
   "cell_type": "code",
   "execution_count": 5,
   "metadata": {
    "colab": {
     "base_uri": "https://localhost:8080/"
    },
    "executionInfo": {
     "elapsed": 21281,
     "status": "ok",
     "timestamp": 1617106817451,
     "user": {
      "displayName": "Mushroom Recognition",
      "photoUrl": "",
      "userId": "12626355061292107466"
     },
     "user_tz": -120
    },
    "id": "O4-J2ODl9mCS",
    "outputId": "81a7dd9c-bf5b-45a0-8a69-bfa0522ffa11"
   },
   "outputs": [
    {
     "name": "stdout",
     "output_type": "stream",
     "text": [
      "[step]: Create IMAGE_URLS\n",
      "\n",
      "Loading DataFrame from csv file:  image_files.csv  ...\n",
      "DataFrame info:\n",
      "\tshape  :  (7404600, 2)\n",
      "\tcolumns:  Index(['image_id', 'file_url'], dtype='object')\n",
      "\n",
      "Adding \"image_type\" column into the DataFrame...\n",
      "\n",
      "Adding \"image_format\" column into the DataFrame...\n",
      "\n",
      "Dropping duplicates...\n",
      "shape before:  (7404600, 4)\n",
      "shape after:  (6387745, 4)\n",
      "\n",
      "*** Exporting image_files DataFrame to csv file ***\n",
      "created csv file:  /resource/project_mushroom/work/build_dataframe/transit/image_urls.csv\n"
     ]
    }
   ],
   "source": [
    "#~~~~~~~~~~~~~~~~~~~~~~~~~~~~~~~~~~~~~~~~~~~~~~~~~~~~~~~~~~#\n",
    "# Create image_urls\n",
    "#~~~~~~~~~~~~~~~~~~~~~~~~~~~~~~~~~~~~~~~~~~~~~~~~~~~~~~~~~~#\n",
    "\n",
    "print('[step]: Create IMAGE_URLS')\n",
    "\n",
    "print('\\nLoading DataFrame from csv file: ', IMAGE_FILES_CSV_FILENAME, ' ...')\n",
    "image_files = pd.read_csv( \\\n",
    "      filepath_or_buffer = os.path.join(CSV_SRC_DIR, IMAGE_FILES_CSV_FILENAME)\n",
    "   ,  sep    = ','\n",
    "   ,  header = 0\n",
    ")\n",
    "print('DataFrame info:')\n",
    "print('\\tshape  : ', image_files.shape)\n",
    "print('\\tcolumns: ', image_files.columns)\n",
    "\n",
    "\n",
    "# Ajout d'une colonne 'image_type' dans le DataFrame pour stocker le type de l'image.\n",
    "# Le type de l'image sera déduit de l'extension du nom du fichier de l'image.\n",
    "print('\\nAdding \"image_type\" column into the DataFrame...')\n",
    "image_files.loc[:,'image_type'] = image_files['file_url'].apply(getExt).copy()\n",
    "\n",
    "\n",
    "# Ajout d'une colonne 'image_format' dans le DataFrame pour stocker le format de l'image.\n",
    "# Le format de l'image sera déduit de l'url de l'image.\n",
    "print('\\nAdding \"image_format\" column into the DataFrame...')\n",
    "image_files.loc[:,'image_format'] = image_files['file_url'].apply(getFormat).copy()\n",
    "\n",
    "\n",
    "# Suppression des doublons\n",
    "print('\\nDropping duplicates...')\n",
    "print('shape before: ', image_files.shape)\n",
    "image_files.drop_duplicates(subset = None, keep = 'first', inplace = True, ignore_index = True)\n",
    "print('shape after: ', image_files.shape)\n",
    "\n",
    "print('\\n*** Exporting image_files DataFrame to csv file ***')\n",
    "dest_filePath = os.path.join(CSV_DST_DIR, 'image_urls.csv')\n",
    "image_files.to_csv( \\\n",
    "      path_or_buf = dest_filePath\n",
    "   ,  sep         = ','\n",
    "   ,  header      = True\n",
    "   ,  index       = False\n",
    "   ,  mode        = 'w'\n",
    "   ,  encoding    = 'utf-8'\n",
    ")\n",
    "print('created csv file: ', dest_filePath)\n"
   ]
  }
 ],
 "metadata": {
  "colab": {
   "authorship_tag": "ABX9TyOD0sKf/zZ4+v8IvbE7PvS/",
   "collapsed_sections": [],
   "name": "02_merging_taxons_with_taxon_parents.ipynb",
   "provenance": []
  },
  "kernelspec": {
   "display_name": "Python 3",
   "language": "python",
   "name": "python3"
  },
  "language_info": {
   "codemirror_mode": {
    "name": "ipython",
    "version": 3
   },
   "file_extension": ".py",
   "mimetype": "text/x-python",
   "name": "python",
   "nbconvert_exporter": "python",
   "pygments_lexer": "ipython3",
   "version": "3.9.4"
  }
 },
 "nbformat": 4,
 "nbformat_minor": 1
}
