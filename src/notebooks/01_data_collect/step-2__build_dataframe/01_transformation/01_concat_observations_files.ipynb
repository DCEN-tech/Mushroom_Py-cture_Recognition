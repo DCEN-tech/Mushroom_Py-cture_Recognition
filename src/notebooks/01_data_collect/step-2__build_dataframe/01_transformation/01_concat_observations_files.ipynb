{
 "cells": [
  {
   "cell_type": "markdown",
   "metadata": {},
   "source": [
    "<table style='border: 3px solid black; width: 100%;'>\n",
    "    <tr>\n",
    "        <th style='width: 5%;'>&nbsp;</th>\n",
    "        <th style='width: 15%;'><img src='../../../../../resources/images/amanita_muscaria.png'></th>\n",
    "        <th><center><h1 style='font-size: 38px;'>[ MUSHROOM Project ]</h1></center></th>\n",
    "        <th style='width: 5%'>&nbsp;</th>\n",
    "    </tr>\n",
    "    <tr>\n",
    "        <td>&nbsp;</td>\n",
    "        <td>&nbsp;</td>\n",
    "        <td>Project type: <span style='color: blue;'><strong>Image Classification</strong></span></td>        \n",
    "        <td>&nbsp;</td>\n",
    "    </tr>\n",
    "    <tr>\n",
    "        <td>&nbsp;</td>\n",
    "        <td>&nbsp;</td>\n",
    "        <td>Autors: </span><strong><span style='color: blue;'>Sabah ABIH</span> / <span style='color: blue;'>Olivier CONSTANTIN</span> / <span style='color: blue;'>David CHARLES-ELIE-NELSON</span></strong></td>\n",
    "        <td>&nbsp;</td>\n",
    "    </tr>\n",
    "</table>\n",
    "\n",
    "<hr style=\"border-width: 4px ; border-color: #0C22D7\">\n",
    "\n",
    "# [Build DataFrame]: ---( 01 - Concat observations files )---</h1></td>\n",
    "\n",
    "<hr style=\"border-width: 4px ; border-color: #0C22D7\">"
   ]
  },
  {
   "cell_type": "markdown",
   "metadata": {},
   "source": [
    "# Initialization"
   ]
  },
  {
   "cell_type": "markdown",
   "metadata": {},
   "source": [
    "## Import Standard Libraries"
   ]
  },
  {
   "cell_type": "code",
   "execution_count": 1,
   "metadata": {},
   "outputs": [
    {
     "name": "stdout",
     "output_type": "stream",
     "text": [
      "Pandas:  1.2.4\n"
     ]
    }
   ],
   "source": [
    "#~~~~~~~~~~~~~~~~~~~~~~~~~~~~~~~~~~~~~~~~~~~~~~~~~~~~~~~~~~#\n",
    "# Import Standard Libraries\n",
    "#~~~~~~~~~~~~~~~~~~~~~~~~~~~~~~~~~~~~~~~~~~~~~~~~~~~~~~~~~~#\n",
    "\n",
    "import os\n",
    "\n",
    "# Pandas\n",
    "import pandas as pd\n",
    "print('Pandas: ', pd.__version__)"
   ]
  },
  {
   "cell_type": "markdown",
   "metadata": {},
   "source": [
    "## Settings"
   ]
  },
  {
   "cell_type": "markdown",
   "metadata": {},
   "source": [
    "### Environment Name"
   ]
  },
  {
   "cell_type": "code",
   "execution_count": 2,
   "metadata": {},
   "outputs": [
    {
     "name": "stdout",
     "output_type": "stream",
     "text": [
      "Enter the environment name:dad\n"
     ]
    }
   ],
   "source": [
    "#~~~~~~~~~~~~~~~~~~~~~~~~~~~~~~~~~~~~~~~~~~~~~~~~~~~~~~~~~~#\n",
    "# Environment Name\n",
    "#~~~~~~~~~~~~~~~~~~~~~~~~~~~~~~~~~~~~~~~~~~~~~~~~~~~~~~~~~~#\n",
    "\n",
    "# Asking for the environment name (on which this notebook will be executed)\n",
    "ENVIRONMENT_NAME = input (\"Enter the environment name:\").lower()\n",
    "    # possible values:\n",
    "    #    'gc' | 'googlecolab' | 'google colab' : any of this value will be equivalent to the remote platform: 'Google Colab'\n",
    "    #    'dad'  | 'david'                       : for the local platform whose owner is David\n",
    "    #    'oliv' | 'olivier'                     : for the local platform whose owner is Olivier"
   ]
  },
  {
   "cell_type": "markdown",
   "metadata": {},
   "source": [
    "### Path Settings"
   ]
  },
  {
   "cell_type": "code",
   "execution_count": 3,
   "metadata": {},
   "outputs": [
    {
     "name": "stdout",
     "output_type": "stream",
     "text": [
      "Path setings initialized for environment: david\n"
     ]
    }
   ],
   "source": [
    "#~~~~~~~~~~~~~~~~~~~~~~~~~~~~~~~~~~~~~~~~~~~~~~~~~~~~~~~~~~#\n",
    "# Path Settings\n",
    "#~~~~~~~~~~~~~~~~~~~~~~~~~~~~~~~~~~~~~~~~~~~~~~~~~~~~~~~~~~#\n",
    "\n",
    "# ~~~ Setting paths according the environment name\n",
    "#\n",
    "# GOOGLE COLAB path settings\n",
    "if ENVIRONMENT_NAME in ('gc', 'googlecolab', 'google colab'):\n",
    "    \n",
    "    ENVIRONMENT_NAME = 'google colab'\n",
    "    raise Error(f'Path settings not yet implemented for environment: {ENVIRONMNENT_NAME}')\n",
    "\n",
    "    GDRIVE_MOUNT_POINT = '/content/drive'\n",
    "    CSV_SRC_DIR='/content/drive/My Drive/Mushroom_project/datasource/mushroomObserver/dataframe/orig'\n",
    "    CSV_DST_DIR='/content/drive/My Drive/Mushroom_project/datasource/mushroomObserver/dataframe/custom'\n",
    "    \n",
    "    # Specific initialization for GOOGLE COLAB platform\n",
    "    #\n",
    "    # Import Libraries\n",
    "    from google.colab import drive\n",
    "    # For Google Colab only !\n",
    "    gdriveMountPath = PATH_SETTINGS.get('GOOGLE_DRIVE_MOUNT_POINT')\n",
    "    if gdriveMountPath:\n",
    "        # Mount the google drive if not already done\n",
    "        if not os.path.isdir(gdriveMountPath):\n",
    "            drive.mount(gdriveMountPath)\n",
    "            print('Google drive mounted !')\n",
    "    else:\n",
    "        raise Error('Failed to retrieve the Google Drive mount point path !')    \n",
    "    \n",
    "# ~~~ DAD custom path settings\n",
    "elif ENVIRONMENT_NAME in ('dad', 'david'):\n",
    "    \n",
    "    ENVIRONMENT_NAME = 'david'\n",
    "    \n",
    "    CSV_SRC_DIR='/resource/project_mushroom/work/build_dataframe/raw'\n",
    "    CSV_DST_DIR='/resource/project_mushroom/work/build_dataframe/transit'\n",
    "    \n",
    "    \n",
    "elif ENVIRONMENT_NAME in ('oliv', 'olivier'):    \n",
    "    ENVIRONMENT_NAME = 'olivier'\n",
    "    raise Error(f'Path settings not yet implemented for environment: {ENVIRONMNENT_NAME}')    \n",
    "# ~~~ Unrecognized platform\n",
    "else:\n",
    "    raise Error('Failed to figure out whether this notebook is running on a remote platform or not !')\n",
    "    \n",
    "print(f'Path setings initialized for environment: {ENVIRONMENT_NAME}')"
   ]
  },
  {
   "cell_type": "markdown",
   "metadata": {},
   "source": [
    "# Concatenate observations files"
   ]
  },
  {
   "cell_type": "markdown",
   "metadata": {},
   "source": [
    "## Library"
   ]
  },
  {
   "cell_type": "code",
   "execution_count": 4,
   "metadata": {
    "executionInfo": {
     "elapsed": 1544,
     "status": "ok",
     "timestamp": 1617106684529,
     "user": {
      "displayName": "Mushroom Recognition",
      "photoUrl": "",
      "userId": "12626355061292107466"
     },
     "user_tz": -120
    },
    "id": "u53ppUZKrEMO"
   },
   "outputs": [],
   "source": [
    "#~~~~~~~~~~~~~~~~~~~~~~~~~~~~~~~~~~~~~~~~~~~~~~~~~~~~~~~~~~#\n",
    "# Library\n",
    "#~~~~~~~~~~~~~~~~~~~~~~~~~~~~~~~~~~~~~~~~~~~~~~~~~~~~~~~~~~#\n",
    "\n",
    "def concatDF(listDF):\n",
    "    if (listDF is None):\n",
    "        raise ValueError('Invalid value for <listDF>: None is provided where a list of dataframes was expected.')\n",
    "    if (len(listDF) == 0):\n",
    "        raise ValueError('Invalid value for <listDF>: An empty list is provided.')\n",
    "    if (len(listDF) == 1):\n",
    "        return listDF[0]\n",
    "    print('Concatenating DataFrames...')\n",
    "    finalDF = pd.concat(listDF, axis='index', ignore_index=True, copy=True)\n",
    "    expectedRows = 0\n",
    "    for i in range(0, len(listDF)):\n",
    "        expectedRows += listDF[i].shape[0]\n",
    "    print('\\tExpected rows: ', str(expectedRows))\n",
    "    # Verification\n",
    "    if (expectedRows != finalDF.shape[0]):\n",
    "        raise Exception('An error occurred: the expected number of rows inside the DataFrame, after concatenation, does not correspond to the expected value.')\n",
    "    print('\\tDataFrame shape: ', finalDF.shape)\n",
    "    return finalDF\n",
    "\n",
    "\n",
    "def _dfFromCSV(filenamePattern, srcDir, dstDir):\n",
    "    # Chargement des DataFrames à partir des fichiers CSV\n",
    "    print('Loading DataFrames from \"' + filenamePattern + '\" files...')\n",
    "    listDF = []\n",
    "    for i in range(1, 8):\n",
    "        filename = filenamePattern + '_' + str(i) + '.csv'\n",
    "        listDF.append(pd.read_csv(srcDir + '/' + filename, sep=',', header=0))\n",
    "    return concatDF(listDF)\n",
    "\n",
    "\n",
    "def concatFiles(filenamePattern, srcDir, dstDir):\n",
    "    print('\\nConcatenating \"' + filenamePattern + '\" files...')\n",
    "    df = _dfFromCSV(filenamePattern, srcDir, dstDir)\n",
    "    filename = dstDir + '/' + filenamePattern + '.csv'\n",
    "    # Creation du fichier csv à partir du DataFrame\n",
    "    print('Exporting DataFrame to csv file...')\n",
    "    df.to_csv(\n",
    "            path_or_buf = filename\n",
    "        ,   sep = ','\n",
    "        ,   header = True\n",
    "        ,   index = False\n",
    "        ,   mode = 'w'\n",
    "        ,   encoding = 'utf-8'\n",
    "    )\n",
    "    print(f'\\tcsv file created: ', filename)\n"
   ]
  },
  {
   "cell_type": "markdown",
   "metadata": {},
   "source": [
    "## Concatenate observations files"
   ]
  },
  {
   "cell_type": "code",
   "execution_count": 5,
   "metadata": {
    "colab": {
     "base_uri": "https://localhost:8080/"
    },
    "executionInfo": {
     "elapsed": 64934,
     "status": "ok",
     "timestamp": 1617106747928,
     "user": {
      "displayName": "Mushroom Recognition",
      "photoUrl": "",
      "userId": "12626355061292107466"
     },
     "user_tz": -120
    },
    "id": "wBN_4Z5I7e4L",
    "outputId": "d7a6d0ab-8a42-49c4-a947-e7d9427e4b59"
   },
   "outputs": [
    {
     "name": "stdout",
     "output_type": "stream",
     "text": [
      "[step]: Concatenating OBSERVATIONS files\n",
      "\n",
      "Concatenating \"observations\" files...\n",
      "Loading DataFrames from \"observations\" files...\n",
      "Concatenating DataFrames...\n",
      "\tExpected rows:  360760\n",
      "\tDataFrame shape:  (360760, 15)\n",
      "Exporting DataFrame to csv file...\n",
      "\tcsv file created:  /resource/project_mushroom/work/build_dataframe/transit/observations.csv\n",
      "\n",
      "Concatenating \"observations_images\" files...\n",
      "Loading DataFrames from \"observations_images\" files...\n",
      "Concatenating DataFrames...\n",
      "\tExpected rows:  778310\n",
      "\tDataFrame shape:  (778310, 5)\n",
      "Exporting DataFrame to csv file...\n",
      "\tcsv file created:  /resource/project_mushroom/work/build_dataframe/transit/observations_images.csv\n",
      "\n",
      "Concatenating \"observations_namings\" files...\n",
      "Loading DataFrames from \"observations_namings\" files...\n",
      "Concatenating DataFrames...\n",
      "\tExpected rows:  509327\n",
      "\tDataFrame shape:  (509327, 7)\n",
      "Exporting DataFrame to csv file...\n",
      "\tcsv file created:  /resource/project_mushroom/work/build_dataframe/transit/observations_namings.csv\n"
     ]
    }
   ],
   "source": [
    "#~~~~~~~~~~~~~~~~~~~~~~~~~~~~~~~~~~~~~~~~~~~~~~~~~~~~~~~~~~#\n",
    "# Concatenate observations files\n",
    "#~~~~~~~~~~~~~~~~~~~~~~~~~~~~~~~~~~~~~~~~~~~~~~~~~~~~~~~~~~#\n",
    "\n",
    "print('[step]: Concatenating OBSERVATIONS files')\n",
    "\n",
    "# Concaténation des fichiers \"OBSERVATIONS*.csv\"\n",
    "concatFiles('observations', CSV_SRC_DIR, CSV_DST_DIR)\n",
    "\n",
    "# Concaténation des fichiers \"OBSERVATIONS_IMAGES*.csv\"\n",
    "concatFiles('observations_images', CSV_SRC_DIR, CSV_DST_DIR)\n",
    "\n",
    "# Concaténation des fichiers \"OBSERVATIONS_NAMINGS*.csv\"\n",
    "concatFiles('observations_namings', CSV_SRC_DIR, CSV_DST_DIR)"
   ]
  }
 ],
 "metadata": {
  "colab": {
   "authorship_tag": "ABX9TyOQqt0b5ppSyZwYVx3MchWZ",
   "collapsed_sections": [],
   "name": "01_concat_observations_files.ipynb",
   "provenance": []
  },
  "kernelspec": {
   "display_name": "Python 3",
   "language": "python",
   "name": "python3"
  },
  "language_info": {
   "codemirror_mode": {
    "name": "ipython",
    "version": 3
   },
   "file_extension": ".py",
   "mimetype": "text/x-python",
   "name": "python",
   "nbconvert_exporter": "python",
   "pygments_lexer": "ipython3",
   "version": "3.9.4"
  }
 },
 "nbformat": 4,
 "nbformat_minor": 1
}
