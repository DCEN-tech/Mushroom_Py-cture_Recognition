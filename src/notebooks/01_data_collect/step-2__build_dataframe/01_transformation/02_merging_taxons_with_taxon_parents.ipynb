{
 "cells": [
  {
   "cell_type": "markdown",
   "metadata": {},
   "source": [
    "<table style='border: 3px solid black; width: 100%;'>\n",
    "    <tr>\n",
    "        <th style='width: 5%;'>&nbsp;</th>\n",
    "        <th style='width: 15%;'><img src='../../../../../resources/images/amanita_muscaria.png'></th>\n",
    "        <th><center><h1 style='font-size: 38px;'>[ MUSHROOM Project ]</h1></center></th>\n",
    "        <th style='width: 5%'>&nbsp;</th>\n",
    "    </tr>\n",
    "    <tr>\n",
    "        <td>&nbsp;</td>\n",
    "        <td>&nbsp;</td>\n",
    "        <td>Project type: <span style='color: blue;'><strong>Image Classification</strong></span></td>        \n",
    "        <td>&nbsp;</td>\n",
    "    </tr>\n",
    "    <tr>\n",
    "        <td>&nbsp;</td>\n",
    "        <td>&nbsp;</td>\n",
    "        <td>Autors: </span><strong><span style='color: blue;'>Sabah ABIH</span> / <span style='color: blue;'>Olivier CONSTANTIN</span> / <span style='color: blue;'>David CHARLES-ELIE-NELSON</span></strong></td>\n",
    "        <td>&nbsp;</td>\n",
    "    </tr>\n",
    "</table>\n",
    "\n",
    "<hr style=\"border-width: 4px ; border-color: #0C22D7\">\n",
    "\n",
    "# [Build DataFrame]: ---( 02 - Merge taxons with taxon_parents )---</h1></td>\n",
    "\n",
    "<hr style=\"border-width: 4px ; border-color: #0C22D7\">"
   ]
  },
  {
   "cell_type": "markdown",
   "metadata": {},
   "source": [
    "# Initialization"
   ]
  },
  {
   "cell_type": "markdown",
   "metadata": {},
   "source": [
    "## Import Standard Libraries"
   ]
  },
  {
   "cell_type": "code",
   "execution_count": 1,
   "metadata": {},
   "outputs": [
    {
     "name": "stdout",
     "output_type": "stream",
     "text": [
      "Pandas:  1.2.4\n"
     ]
    }
   ],
   "source": [
    "#~~~~~~~~~~~~~~~~~~~~~~~~~~~~~~~~~~~~~~~~~~~~~~~~~~~~~~~~~~#\n",
    "# Import Standard Libraries\n",
    "#~~~~~~~~~~~~~~~~~~~~~~~~~~~~~~~~~~~~~~~~~~~~~~~~~~~~~~~~~~#\n",
    "\n",
    "import os\n",
    "\n",
    "# Pandas\n",
    "import pandas as pd\n",
    "print('Pandas: ', pd.__version__)"
   ]
  },
  {
   "cell_type": "markdown",
   "metadata": {},
   "source": [
    "## Settings"
   ]
  },
  {
   "cell_type": "markdown",
   "metadata": {},
   "source": [
    "### Environment Name"
   ]
  },
  {
   "cell_type": "code",
   "execution_count": 2,
   "metadata": {},
   "outputs": [
    {
     "name": "stdout",
     "output_type": "stream",
     "text": [
      "Enter the environment name:dad\n"
     ]
    }
   ],
   "source": [
    "#~~~~~~~~~~~~~~~~~~~~~~~~~~~~~~~~~~~~~~~~~~~~~~~~~~~~~~~~~~#\n",
    "# Environment Name\n",
    "#~~~~~~~~~~~~~~~~~~~~~~~~~~~~~~~~~~~~~~~~~~~~~~~~~~~~~~~~~~#\n",
    "\n",
    "# Asking for the environment name (on which this notebook will be executed)\n",
    "ENVIRONMENT_NAME = input (\"Enter the environment name:\").lower()\n",
    "    # possible values:\n",
    "    #    'gc' | 'googlecolab' | 'google colab' : any of this value will be equivalent to the remote platform: 'Google Colab'\n",
    "    #    'dad'  | 'david'                       : for the local platform whose owner is David\n",
    "    #    'oliv' | 'olivier'                     : for the local platform whose owner is Olivier"
   ]
  },
  {
   "cell_type": "markdown",
   "metadata": {},
   "source": [
    "### Path Settings"
   ]
  },
  {
   "cell_type": "code",
   "execution_count": 3,
   "metadata": {},
   "outputs": [
    {
     "name": "stdout",
     "output_type": "stream",
     "text": [
      "Path setings initialized for environment: david\n"
     ]
    }
   ],
   "source": [
    "#~~~~~~~~~~~~~~~~~~~~~~~~~~~~~~~~~~~~~~~~~~~~~~~~~~~~~~~~~~#\n",
    "# Path Settings\n",
    "#~~~~~~~~~~~~~~~~~~~~~~~~~~~~~~~~~~~~~~~~~~~~~~~~~~~~~~~~~~#\n",
    "\n",
    "TAXONS_CSV_FILENAME         = 'taxons.csv'\n",
    "TAXONS_PARENTS_CSV_FILENAME = 'taxon_parents.csv'\n",
    "\n",
    "# ~~~ Setting paths according the environment name\n",
    "#\n",
    "# GOOGLE COLAB path settings\n",
    "if ENVIRONMENT_NAME in ('gc', 'googlecolab', 'google colab'):\n",
    "    \n",
    "    ENVIRONMENT_NAME = 'google colab'\n",
    "    raise Error(f'Path settings not yet implemented for environment: {ENVIRONMNENT_NAME}')\n",
    "\n",
    "    GDRIVE_MOUNT_POINT = '/content/drive'\n",
    "    CSV_SRC_DIR='/content/drive/My Drive/Mushroom_project/datasource/mushroomObserver/dataframe/orig'\n",
    "    CSV_DST_DIR='/content/drive/My Drive/Mushroom_project/datasource/mushroomObserver/dataframe/custom'\n",
    "    \n",
    "    # Specific initialization for GOOGLE COLAB platform\n",
    "    #\n",
    "    # Import Libraries\n",
    "    from google.colab import drive\n",
    "    # For Google Colab only !\n",
    "    gdriveMountPath = PATH_SETTINGS.get('GOOGLE_DRIVE_MOUNT_POINT')\n",
    "    if gdriveMountPath:\n",
    "        # Mount the google drive if not already done\n",
    "        if not os.path.isdir(gdriveMountPath):\n",
    "            drive.mount(gdriveMountPath)\n",
    "            print('Google drive mounted !')\n",
    "    else:\n",
    "        raise Error('Failed to retrieve the Google Drive mount point path !')    \n",
    "    \n",
    "# ~~~ DAD custom path settings\n",
    "elif ENVIRONMENT_NAME in ('dad', 'david'):\n",
    "    \n",
    "    ENVIRONMENT_NAME = 'david'\n",
    "    \n",
    "    CSV_SRC_DIR = '/resource/project_mushroom/work/build_dataframe/raw'\n",
    "    CSV_DST_DIR = '/resource/project_mushroom/work/build_dataframe/transit'\n",
    "    \n",
    "    \n",
    "elif ENVIRONMENT_NAME in ('oliv', 'olivier'):    \n",
    "    ENVIRONMENT_NAME = 'olivier'\n",
    "    raise Error(f'Path settings not yet implemented for environment: {ENVIRONMNENT_NAME}')    \n",
    "# ~~~ Unrecognized platform\n",
    "else:\n",
    "    raise Error('Failed to figure out whether this notebook is running on a remote platform or not !')\n",
    "    \n",
    "print(f'Path setings initialized for environment: {ENVIRONMENT_NAME}')"
   ]
  },
  {
   "cell_type": "markdown",
   "metadata": {},
   "source": [
    "# Merge taxons with taxon_parents"
   ]
  },
  {
   "cell_type": "markdown",
   "metadata": {},
   "source": [
    "## Library"
   ]
  },
  {
   "cell_type": "code",
   "execution_count": 4,
   "metadata": {
    "executionInfo": {
     "elapsed": 677,
     "status": "ok",
     "timestamp": 1617106796838,
     "user": {
      "displayName": "Mushroom Recognition",
      "photoUrl": "",
      "userId": "12626355061292107466"
     },
     "user_tz": -120
    },
    "id": "SMBBVW-s9Vm5"
   },
   "outputs": [],
   "source": [
    "#~~~~~~~~~~~~~~~~~~~~~~~~~~~~~~~~~~~~~~~~~~~~~~~~~~~~~~~~~~#\n",
    "# Library\n",
    "#~~~~~~~~~~~~~~~~~~~~~~~~~~~~~~~~~~~~~~~~~~~~~~~~~~~~~~~~~~#\n",
    "\n",
    "def getTaxonData(taxonRank):\n",
    "    '''\n",
    "    PARAMETERS:\n",
    "      taxonRank:\n",
    "         allowed values: { 'domain', 'kingdom', 'phylum', 'class', 'order', 'family' }\n",
    "    '''\n",
    "    if (taxonRank not in ['domain', 'kingdom', 'phylum', 'class', 'order', 'family']):\n",
    "        raise ValueError('Invalid value for <domain> parameter: ', taxonRank)\n",
    "    print('\\tExtraction...')\n",
    "    df = taxon_parents[ taxon_parents['parent_rank'] == taxonRank ]\n",
    "    return df\n",
    "\n",
    "\n",
    "def mergeTaxonData(taxonRank, taxonData):\n",
    "    '''\n",
    "    PARAMETERS:\n",
    "      taxonRank:\n",
    "         allowed values: { 'domain', 'kingdom', 'phylum', 'class', 'order', 'family' }\n",
    "    '''\n",
    "    if (taxonRank not in ['domain', 'kingdom', 'phylum', 'class', 'order', 'family']):\n",
    "        raise ValueError('Invalid value for <domain> parameter: ', taxonRank)\n",
    "    print('\\tAdding data to taxons DataFrame...')\n",
    "    df = taxons.merge( \\\n",
    "            right     = taxonData\n",
    "        ,   how       = 'left'\n",
    "        ,   on        = 'taxon_id'\n",
    "        ,   copy      = True\n",
    "        ,   suffixes  = ['_1','_2']\n",
    "        ,   indicator = False\n",
    "        ,   validate  = 'one_to_one'\n",
    "    )\n",
    "    print('\\tFinalisation...')\n",
    "    df.drop(columns=['parent_rank'], inplace=True)\n",
    "    df.rename(columns={'parent_name':taxonRank}, inplace=True)\n",
    "    return df\n"
   ]
  },
  {
   "cell_type": "markdown",
   "metadata": {},
   "source": [
    "## Merge taxons with taxon_parents"
   ]
  },
  {
   "cell_type": "code",
   "execution_count": 5,
   "metadata": {
    "colab": {
     "base_uri": "https://localhost:8080/"
    },
    "executionInfo": {
     "elapsed": 21281,
     "status": "ok",
     "timestamp": 1617106817451,
     "user": {
      "displayName": "Mushroom Recognition",
      "photoUrl": "",
      "userId": "12626355061292107466"
     },
     "user_tz": -120
    },
    "id": "O4-J2ODl9mCS",
    "outputId": "81a7dd9c-bf5b-45a0-8a69-bfa0522ffa11"
   },
   "outputs": [
    {
     "name": "stdout",
     "output_type": "stream",
     "text": [
      "[step]: Merge TAXONS with TAXON_PARENTS\n",
      "\n",
      "--------------------------\n",
      "=== Loading DataFrames ===\n",
      "--------------------------\n",
      "DataFrame: taxons ...\n",
      "Loading : OK\n",
      "shape   :  (102789, 6)\n",
      "columns :  Index(['id', 'name', 'rank', 'deprecated', 'misspelled', 'views'], dtype='object')\n",
      "\n",
      "DataFrame: taxon_parents ...\n",
      "Loading: OK\n",
      "shape  :  (196336, 3)\n",
      "columns:  Index(['taxon_id', 'parent_name', 'parent_rank'], dtype='object')\n",
      "\n",
      "-----------------------\n",
      "=== Transformations ===\n",
      "-----------------------\n",
      "Renaming columns in taxons DataFrame:\n",
      "[OK]\n",
      "\n",
      "--------------------------\n",
      "=== Available Taxonomy ===\n",
      "--------------------------\n",
      "Find below taxonomy information available inside taxon_parents DataFrame:\n",
      "['domain' 'kingdom' 'phylum' 'class' 'order' 'family']\n",
      "\n",
      "-------------------------------------------------------------\n",
      "=== Merging taxons DataFrame with taxon_parents DataFrame ===\n",
      "-------------------------------------------------------------\n",
      "DOMAIN\n",
      "\tExtraction...\n",
      "\tAdding data to taxons DataFrame...\n",
      "\tFinalisation...\n",
      "\t[OK]\n",
      "KINGDOM\n",
      "\tExtraction...\n",
      "\tAdding data to taxons DataFrame...\n",
      "\tFinalisation...\n",
      "\t[OK]\n",
      "PHYLUM\n",
      "\tExtraction...\n",
      "\tAdding data to taxons DataFrame...\n",
      "\tFinalisation...\n",
      "\t[OK]\n",
      "CLASS\n",
      "\tExtraction...\n",
      "\tAdding data to taxons DataFrame...\n",
      "\tFinalisation...\n",
      "\t[OK]\n",
      "ORDER\n",
      "\tExtraction...\n",
      "\tAdding data to taxons DataFrame...\n",
      "\tFinalisation...\n",
      "\t[OK]\n",
      "FAMILY\n",
      "\tExtraction...\n",
      "\tAdding data to taxons DataFrame...\n",
      "\tFinalisation...\n",
      "\t[OK]\n",
      "\n",
      "----------------------------------------------\n",
      "=== Exporting taxons DataFrame to csv file ===\n",
      "----------------------------------------------\n",
      "created csv file:  /resource/project_mushroom/work/build_dataframe/transit/taxons.csv\n"
     ]
    }
   ],
   "source": [
    "#~~~~~~~~~~~~~~~~~~~~~~~~~~~~~~~~~~~~~~~~~~~~~~~~~~~~~~~~~~#\n",
    "# Merge taxons with taxon_parents\n",
    "#~~~~~~~~~~~~~~~~~~~~~~~~~~~~~~~~~~~~~~~~~~~~~~~~~~~~~~~~~~#\n",
    "\n",
    "print('[step]: Merge TAXONS with TAXON_PARENTS')\n",
    "\n",
    "print('')\n",
    "print('--------------------------')\n",
    "print('=== Loading DataFrames ===')\n",
    "print('--------------------------')\n",
    "print('DataFrame: taxons ...')\n",
    "taxons = pd.read_csv( \\\n",
    "      filepath_or_buffer = os.path.join(CSV_SRC_DIR, TAXONS_CSV_FILENAME)\n",
    "   ,  sep    = ','\n",
    "   ,  header = 0\n",
    ")\n",
    "print('Loading : OK')\n",
    "print('shape   : ', taxons.shape)\n",
    "print('columns : ', taxons.columns)\n",
    "\n",
    "\n",
    "print('\\nDataFrame: taxon_parents ...')\n",
    "taxon_parents = pd.read_csv(\n",
    "      filepath_or_buffer = os.path.join(CSV_SRC_DIR, TAXONS_PARENTS_CSV_FILENAME)\n",
    "   ,  sep    = ','\n",
    "   ,  header = 0\n",
    ")\n",
    "print('Loading: OK')\n",
    "print('shape  : ', taxon_parents.shape)\n",
    "print('columns: ', taxon_parents.columns)\n",
    "\n",
    "\n",
    "print('')\n",
    "print('-----------------------')\n",
    "print('=== Transformations ===')\n",
    "print('-----------------------')\n",
    "print('Renaming columns in taxons DataFrame:')\n",
    "taxons.rename(columns={'id': 'taxon_id', 'name': 'taxon_name', 'rank': 'taxon_rank'}, inplace=True)\n",
    "print('[OK]')\n",
    "\n",
    "\n",
    "print('')\n",
    "print('--------------------------')\n",
    "print('=== Available Taxonomy ===')\n",
    "print('--------------------------')\n",
    "print('Find below taxonomy information available inside taxon_parents DataFrame:')\n",
    "print(taxon_parents['parent_rank'].unique())\n",
    "#   array(['domain', 'kingdom', 'phylum', 'class', 'order', 'family'],\n",
    "#         dtype=object)\n",
    "\n",
    "\n",
    "print('')\n",
    "print('-------------------------------------------------------------')\n",
    "print('=== Merging taxons DataFrame with taxon_parents DataFrame ===')\n",
    "print('-------------------------------------------------------------')\n",
    "for taxonRank in taxon_parents['parent_rank'].unique():\n",
    "    print(taxonRank.upper())\n",
    "    taxonData = getTaxonData(taxonRank)\n",
    "    taxons = mergeTaxonData(taxonRank, taxonData).copy()\n",
    "    print('\\t[OK]')\n",
    "\n",
    "\n",
    "print('')\n",
    "print('----------------------------------------------')\n",
    "print('=== Exporting taxons DataFrame to csv file ===')\n",
    "print('----------------------------------------------')\n",
    "dest_filePath = os.path.join(CSV_DST_DIR, TAXONS_CSV_FILENAME)\n",
    "taxons.to_csv( \\\n",
    "      path_or_buf = dest_filePath\n",
    "   ,  sep         = ','\n",
    "   ,  header      = True\n",
    "   ,  index       = False\n",
    "   ,  mode        = 'w'\n",
    "   ,  encoding    = 'utf-8'\n",
    ")\n",
    "print('created csv file: ', dest_filePath)\n"
   ]
  }
 ],
 "metadata": {
  "colab": {
   "authorship_tag": "ABX9TyOD0sKf/zZ4+v8IvbE7PvS/",
   "collapsed_sections": [],
   "name": "02_merging_taxons_with_taxon_parents.ipynb",
   "provenance": []
  },
  "kernelspec": {
   "display_name": "Python 3",
   "language": "python",
   "name": "python3"
  },
  "language_info": {
   "codemirror_mode": {
    "name": "ipython",
    "version": 3
   },
   "file_extension": ".py",
   "mimetype": "text/x-python",
   "name": "python",
   "nbconvert_exporter": "python",
   "pygments_lexer": "ipython3",
   "version": "3.9.4"
  }
 },
 "nbformat": 4,
 "nbformat_minor": 1
}
