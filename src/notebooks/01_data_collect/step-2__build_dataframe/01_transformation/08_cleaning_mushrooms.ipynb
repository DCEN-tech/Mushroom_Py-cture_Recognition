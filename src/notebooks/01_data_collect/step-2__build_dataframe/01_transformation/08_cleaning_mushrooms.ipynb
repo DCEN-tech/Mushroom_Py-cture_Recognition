{
 "cells": [
  {
   "cell_type": "markdown",
   "metadata": {},
   "source": [
    "<table style='border: 3px solid black; width: 100%;'>\n",
    "    <tr>\n",
    "        <th style='width: 5%;'>&nbsp;</th>\n",
    "        <th style='width: 15%;'><img src='../../../../../resources/images/amanita_muscaria.png'></th>\n",
    "        <th><center><h1 style='font-size: 38px;'>[ MUSHROOM Project ]</h1></center></th>\n",
    "        <th style='width: 5%'>&nbsp;</th>\n",
    "    </tr>\n",
    "    <tr>\n",
    "        <td>&nbsp;</td>\n",
    "        <td>&nbsp;</td>\n",
    "        <td>Project type: <span style='color: blue;'><strong>Image Classification</strong></span></td>        \n",
    "        <td>&nbsp;</td>\n",
    "    </tr>\n",
    "    <tr>\n",
    "        <td>&nbsp;</td>\n",
    "        <td>&nbsp;</td>\n",
    "        <td>Autors: </span><strong><span style='color: blue;'>Sabah ABIH</span> / <span style='color: blue;'>Olivier CONSTANTIN</span> / <span style='color: blue;'>David CHARLES-ELIE-NELSON</span></strong></td>\n",
    "        <td>&nbsp;</td>\n",
    "    </tr>\n",
    "</table>\n",
    "\n",
    "<hr style=\"border-width: 4px ; border-color: #0C22D7\">\n",
    "\n",
    "# [Build DataFrame]: ---( 08 - Clean mushrooms )---</h1></td>\n",
    "\n",
    "<hr style=\"border-width: 4px ; border-color: #0C22D7\">"
   ]
  },
  {
   "cell_type": "markdown",
   "metadata": {},
   "source": [
    "# Initialization"
   ]
  },
  {
   "cell_type": "markdown",
   "metadata": {},
   "source": [
    "## Import Standard Libraries"
   ]
  },
  {
   "cell_type": "code",
   "execution_count": 1,
   "metadata": {},
   "outputs": [
    {
     "name": "stdout",
     "output_type": "stream",
     "text": [
      "Pandas:  1.2.4\n",
      "NumPy:  1.20.3\n"
     ]
    }
   ],
   "source": [
    "#~~~~~~~~~~~~~~~~~~~~~~~~~~~~~~~~~~~~~~~~~~~~~~~~~~~~~~~~~~#\n",
    "# Import Standard Libraries\n",
    "#~~~~~~~~~~~~~~~~~~~~~~~~~~~~~~~~~~~~~~~~~~~~~~~~~~~~~~~~~~#\n",
    "\n",
    "import os\n",
    "\n",
    "# Pandas\n",
    "import pandas as pd\n",
    "print('Pandas: ', pd.__version__)\n",
    "\n",
    "# Pandas\n",
    "import numpy as np\n",
    "print('NumPy: ', np.__version__)"
   ]
  },
  {
   "cell_type": "markdown",
   "metadata": {},
   "source": [
    "## Settings"
   ]
  },
  {
   "cell_type": "markdown",
   "metadata": {},
   "source": [
    "### Environment Name"
   ]
  },
  {
   "cell_type": "code",
   "execution_count": 2,
   "metadata": {},
   "outputs": [
    {
     "name": "stdout",
     "output_type": "stream",
     "text": [
      "Enter the environment name:dad\n"
     ]
    }
   ],
   "source": [
    "#~~~~~~~~~~~~~~~~~~~~~~~~~~~~~~~~~~~~~~~~~~~~~~~~~~~~~~~~~~#\n",
    "# Environment Name\n",
    "#~~~~~~~~~~~~~~~~~~~~~~~~~~~~~~~~~~~~~~~~~~~~~~~~~~~~~~~~~~#\n",
    "\n",
    "# Asking for the environment name (on which this notebook will be executed)\n",
    "ENVIRONMENT_NAME = input (\"Enter the environment name:\").lower()\n",
    "    # possible values:\n",
    "    #    'gc' | 'googlecolab' | 'google colab' : any of this value will be equivalent to the remote platform: 'Google Colab'\n",
    "    #    'dad'  | 'david'                       : for the local platform whose owner is David\n",
    "    #    'oliv' | 'olivier'                     : for the local platform whose owner is Olivier"
   ]
  },
  {
   "cell_type": "markdown",
   "metadata": {},
   "source": [
    "### Path Settings"
   ]
  },
  {
   "cell_type": "code",
   "execution_count": 3,
   "metadata": {},
   "outputs": [
    {
     "name": "stdout",
     "output_type": "stream",
     "text": [
      "Path setings initialized for environment: david\n"
     ]
    }
   ],
   "source": [
    "#~~~~~~~~~~~~~~~~~~~~~~~~~~~~~~~~~~~~~~~~~~~~~~~~~~~~~~~~~~#\n",
    "# Path Settings\n",
    "#~~~~~~~~~~~~~~~~~~~~~~~~~~~~~~~~~~~~~~~~~~~~~~~~~~~~~~~~~~#\n",
    "\n",
    "MUSHROOMS_CSV_FILENAME = 'mushrooms.csv'\n",
    "\n",
    "# ~~~ Setting paths according the environment name\n",
    "#\n",
    "# GOOGLE COLAB path settings\n",
    "if ENVIRONMENT_NAME in ('gc', 'googlecolab', 'google colab'):\n",
    "    \n",
    "    ENVIRONMENT_NAME = 'google colab'\n",
    "    raise Error(f'Path settings not yet implemented for environment: {ENVIRONMNENT_NAME}')\n",
    "\n",
    "    GDRIVE_MOUNT_POINT = '/content/drive'\n",
    "    CSV_SRC_DIR='/content/drive/My Drive/Mushroom_project/datasource/mushroomObserver/dataframe/orig'\n",
    "    CSV_DST_DIR='/content/drive/My Drive/Mushroom_project/datasource/mushroomObserver/dataframe/custom'\n",
    "    \n",
    "    # Specific initialization for GOOGLE COLAB platform\n",
    "    #\n",
    "    # Import Libraries\n",
    "    from google.colab import drive\n",
    "    # For Google Colab only !\n",
    "    gdriveMountPath = PATH_SETTINGS.get('GOOGLE_DRIVE_MOUNT_POINT')\n",
    "    if gdriveMountPath:\n",
    "        # Mount the google drive if not already done\n",
    "        if not os.path.isdir(gdriveMountPath):\n",
    "            drive.mount(gdriveMountPath)\n",
    "            print('Google drive mounted !')\n",
    "    else:\n",
    "        raise Error('Failed to retrieve the Google Drive mount point path !')    \n",
    "    \n",
    "# ~~~ DAD custom path settings\n",
    "elif ENVIRONMENT_NAME in ('dad', 'david'):\n",
    "    \n",
    "    ENVIRONMENT_NAME = 'david'\n",
    "    \n",
    "    CSV_SRC_DIR = '/resource/project_mushroom/work/build_dataframe/transit'\n",
    "    CSV_DST_DIR = '/resource/project_mushroom/work/build_dataframe/clean'\n",
    "    \n",
    "    \n",
    "elif ENVIRONMENT_NAME in ('oliv', 'olivier'):    \n",
    "    ENVIRONMENT_NAME = 'olivier'\n",
    "    raise Error(f'Path settings not yet implemented for environment: {ENVIRONMNENT_NAME}')    \n",
    "# ~~~ Unrecognized platform\n",
    "else:\n",
    "    raise Error('Failed to figure out whether this notebook is running on a remote platform or not !')\n",
    "    \n",
    "print(f'Path setings initialized for environment: {ENVIRONMENT_NAME}')"
   ]
  },
  {
   "cell_type": "markdown",
   "metadata": {},
   "source": [
    "# Load mushrooms dataframe"
   ]
  },
  {
   "cell_type": "code",
   "execution_count": 4,
   "metadata": {},
   "outputs": [
    {
     "name": "stdout",
     "output_type": "stream",
     "text": [
      "\n",
      "Loading DataFrame from csv file:  mushrooms.csv  ...\n"
     ]
    },
    {
     "name": "stderr",
     "output_type": "stream",
     "text": [
      "/data/development/envs/python/pyenv/versions/anaconda3-2020.11/envs/prjMushroom/lib/python3.9/site-packages/IPython/core/interactiveshell.py:3169: DtypeWarning: Columns (27,28,31,32,33,36,37,38) have mixed types.Specify dtype option on import or set low_memory=False.\n",
      "  has_raised = await self.run_ast_nodes(code_ast.body, cell_name,\n"
     ]
    },
    {
     "name": "stdout",
     "output_type": "stream",
     "text": [
      "DataFrame info:\n",
      "\tshape  :  (4017445, 39)\n",
      "\tcolumns:  Index(['obs_id', 'obs_date', 'is_collection_location', 'confidence',\n",
      "       'obs_views', 'consensus_id', 'consensus_name', 'consensus_rank',\n",
      "       'consensus_synonym_id', 'location_id', 'location_name',\n",
      "       'primary_image_id', 'primary_image_date', 'primary_image_license',\n",
      "       'primary_image_quality', 'taxon_id', 'taxon_name', 'taxon_rank',\n",
      "       'deprecated', 'misspelled', 'domain', 'kingdom', 'phylum', 'class',\n",
      "       'order', 'family', 'image_id', 'image_date', 'image_notes',\n",
      "       'image_quality', 'image_views', 'image_ok_for_export', 'image_license',\n",
      "       'image_content_type', 'image_width', 'image_height', 'image_url',\n",
      "       'image_type', 'image_format'],\n",
      "      dtype='object')\n"
     ]
    }
   ],
   "source": [
    "#~~~~~~~~~~~~~~~~~~~~~~~~~~~~~~~~~~~~~~~~~~~~~~~~~~~~~~~~~~#\n",
    "# Load mushrooms dataframe\n",
    "#~~~~~~~~~~~~~~~~~~~~~~~~~~~~~~~~~~~~~~~~~~~~~~~~~~~~~~~~~~#\n",
    "\n",
    "print('\\nLoading DataFrame from csv file: ', MUSHROOMS_CSV_FILENAME, ' ...')\n",
    "mushrooms = pd.read_csv( \\\n",
    "      filepath_or_buffer = os.path.join(CSV_SRC_DIR, MUSHROOMS_CSV_FILENAME)\n",
    "   ,  sep    = ','\n",
    "   ,  header = 0\n",
    ")\n",
    "print('DataFrame info:')\n",
    "print('\\tshape  : ', mushrooms.shape)\n",
    "print('\\tcolumns: ', mushrooms.columns)"
   ]
  },
  {
   "cell_type": "markdown",
   "metadata": {},
   "source": [
    "# Clean mushrooms"
   ]
  },
  {
   "cell_type": "code",
   "execution_count": 5,
   "metadata": {
    "colab": {
     "base_uri": "https://localhost:8080/"
    },
    "executionInfo": {
     "elapsed": 21281,
     "status": "ok",
     "timestamp": 1617106817451,
     "user": {
      "displayName": "Mushroom Recognition",
      "photoUrl": "",
      "userId": "12626355061292107466"
     },
     "user_tz": -120
    },
    "id": "O4-J2ODl9mCS",
    "outputId": "81a7dd9c-bf5b-45a0-8a69-bfa0522ffa11"
   },
   "outputs": [
    {
     "name": "stdout",
     "output_type": "stream",
     "text": [
      "[step]: Clean MSUHROOMS\n",
      "AFTER removing deprecated:\n",
      "\tshape  :  (3759959, 39)\n",
      "AFTER removing obs without image:\n",
      "\tshape  :  (3536224, 39)\n"
     ]
    }
   ],
   "source": [
    "#~~~~~~~~~~~~~~~~~~~~~~~~~~~~~~~~~~~~~~~~~~~~~~~~~~~~~~~~~~#\n",
    "# Clean mushrooms\n",
    "#~~~~~~~~~~~~~~~~~~~~~~~~~~~~~~~~~~~~~~~~~~~~~~~~~~~~~~~~~~#\n",
    "\n",
    "print('[step]: Clean MSUHROOMS')\n",
    "\n",
    "# Counting deprecated\n",
    "cnt = mushrooms[ mushrooms['deprecated'] == True ].shape[0]\n",
    "if (cnt > 0):\n",
    "    # Keeping only observations with a non deprecated taxon_name\n",
    "    mushrooms = mushrooms[ mushrooms['deprecated'] == False ].copy()\n",
    "    print('AFTER removing deprecated:')\n",
    "    print('\\tshape  : ', mushrooms.shape)\n",
    "\n",
    "# Counting observation without image\n",
    "cnt = mushrooms[ mushrooms['image_url'].isna() ].shape[0]\n",
    "if (cnt > 0):\n",
    "    # Keeping only observations with an image\n",
    "    mushrooms = mushrooms[ mushrooms['image_url'].notna() ].copy()\n",
    "    print('AFTER removing obs without image:')\n",
    "    print('\\tshape  : ', mushrooms.shape)\n",
    "\n",
    "col = np.array(mushrooms['consensus_synonym_id'], np.int64)\n",
    "mushrooms['consensus_synonym_id'] = col\n",
    "del col\n",
    "\n",
    "col = np.array(mushrooms['location_id'], np.int64)\n",
    "mushrooms['location_id'] = col\n",
    "del col\n",
    "\n",
    "col = np.array(mushrooms['primary_image_id'], np.int64)\n",
    "mushrooms['primary_image_id'] = col\n",
    "del col\n",
    "\n",
    "col = np.array(mushrooms['taxon_id'], np.int64)\n",
    "mushrooms['taxon_id'] = col\n",
    "del col\n",
    "\n",
    "mushrooms.loc[:,'taxon_id'] = mushrooms.loc[:,'taxon_id'].astype(dtype='int64', copy = True)\n",
    "\n",
    "mushrooms.loc[:,'image_id'] = mushrooms.loc[:,'image_id'].astype(dtype='int64', copy = True)\n",
    "\n",
    "mushrooms.loc[:,'image_url'] = mushrooms.loc[:,'image_url'].astype(dtype='str', copy = True)\n",
    "mushrooms.loc[:,'image_type'] = mushrooms.loc[:,'image_type'].astype(dtype='str', copy = True)"
   ]
  },
  {
   "cell_type": "markdown",
   "metadata": {},
   "source": [
    "# Export mushrooms dataframe to csv file"
   ]
  },
  {
   "cell_type": "code",
   "execution_count": 6,
   "metadata": {},
   "outputs": [
    {
     "name": "stdout",
     "output_type": "stream",
     "text": [
      "\n",
      "*** Exporting resulting DataFrame to csv file ***\n",
      "created csv file:  /resource/project_mushroom/work/build_dataframe/clean/mushrooms.csv\n"
     ]
    }
   ],
   "source": [
    "#~~~~~~~~~~~~~~~~~~~~~~~~~~~~~~~~~~~~~~~~~~~~~~~~~~~~~~~~~~#\n",
    "# Export mushrooms dataframe to csv file\n",
    "#~~~~~~~~~~~~~~~~~~~~~~~~~~~~~~~~~~~~~~~~~~~~~~~~~~~~~~~~~~#\n",
    "\n",
    "print('\\n*** Exporting resulting DataFrame to csv file ***')\n",
    "dest_filePath = os.path.join(CSV_DST_DIR, MUSHROOMS_CSV_FILENAME)\n",
    "mushrooms.to_csv( \\\n",
    "      path_or_buf = dest_filePath\n",
    "   ,  sep         = ','\n",
    "   ,  header      = True\n",
    "   ,  index       = False\n",
    "   ,  mode        = 'w'\n",
    "   ,  encoding    = 'utf-8'\n",
    ")\n",
    "print('created csv file: ', dest_filePath)"
   ]
  }
 ],
 "metadata": {
  "colab": {
   "authorship_tag": "ABX9TyOD0sKf/zZ4+v8IvbE7PvS/",
   "collapsed_sections": [],
   "name": "02_merging_taxons_with_taxon_parents.ipynb",
   "provenance": []
  },
  "kernelspec": {
   "display_name": "Python 3",
   "language": "python",
   "name": "python3"
  },
  "language_info": {
   "codemirror_mode": {
    "name": "ipython",
    "version": 3
   },
   "file_extension": ".py",
   "mimetype": "text/x-python",
   "name": "python",
   "nbconvert_exporter": "python",
   "pygments_lexer": "ipython3",
   "version": "3.9.4"
  }
 },
 "nbformat": 4,
 "nbformat_minor": 1
}
