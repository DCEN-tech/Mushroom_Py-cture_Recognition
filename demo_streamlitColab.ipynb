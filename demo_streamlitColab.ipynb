{
  "nbformat": 4,
  "nbformat_minor": 0,
  "metadata": {
    "colab": {
      "name": "demo_streamlitColab.ipynb",
      "provenance": [],
      "collapsed_sections": [],
      "include_colab_link": true
    },
    "kernelspec": {
      "display_name": "Python 3",
      "name": "python3"
    }
  },
  "cells": [
    {
      "cell_type": "markdown",
      "metadata": {
        "id": "view-in-github",
        "colab_type": "text"
      },
      "source": [
        "<a href=\"https://colab.research.google.com/github/DCEN-tech/Mushroom_Py-cture_Recognition/blob/main/demo_streamlitColab.ipynb\" target=\"_parent\"><img src=\"https://colab.research.google.com/assets/colab-badge.svg\" alt=\"Open In Colab\"/></a>"
      ]
    },
    {
      "cell_type": "markdown",
      "metadata": {
        "id": "vWmc_s2ezvU0"
      },
      "source": [
        "#Demo Streamlit"
      ]
    },
    {
      "cell_type": "markdown",
      "metadata": {
        "id": "xZMtoqVt8hzh"
      },
      "source": [
        "La démo Streamlit est accessible en ligne, via le lien indiqué dans la description du repo Github. Néanmoins, pour ceux qui le souhaitent ou dans le cas où la démo serait inaccessible, il est possible de la lancer via ce notebook depuis Google Colab.\n",
        "\n",
        "Le principe est d'initier un tunnel via le service Ngrok afin de rendre publique l'adresse du serveur instancié par streamlit. Pour éviter d'atteindre les quotas de soumission auprès de Ngrok, il faut au préalable s'inscrire sur le site https://ngrok.com/ afin d'y récupérer un token. Ce dernier sera nécessaire plus loin dans ce notebook \n"
      ]
    },
    {
      "cell_type": "markdown",
      "metadata": {
        "id": "Doh1Nrjpz9ua"
      },
      "source": [
        "## **1. Installations**"
      ]
    },
    {
      "cell_type": "markdown",
      "metadata": {
        "id": "1aViQX800ht7"
      },
      "source": [
        "### 1.1. Installation de Streamlit"
      ]
    },
    {
      "cell_type": "markdown",
      "metadata": {
        "id": "RBr5L5gnvCLY"
      },
      "source": [
        "Il faut d'abord installer Streamlit en exécutant le code ci-dessous. Il est possible qu'une erreur de version apparaisse, sans conséquence pour la bonne exécution de l'application.<br>\n",
        "Apres avoir exécuté la cellule ci-dessous il faut surtout penser à redémarrer l'environnement d'exécution via le menu !\n"
      ]
    },
    {
      "cell_type": "code",
      "metadata": {
        "id": "4pX82dyHr8XL",
        "outputId": "6b761983-2a39-4297-aa0b-7ee513b68975",
        "colab": {
          "base_uri": "https://localhost:8080/"
        }
      },
      "source": [
        "!pip install -q streamlit"
      ],
      "execution_count": 1,
      "outputs": [
        {
          "output_type": "stream",
          "name": "stdout",
          "text": [
            "\u001b[K     |████████████████████████████████| 8.0 MB 5.2 MB/s \n",
            "\u001b[K     |████████████████████████████████| 4.3 MB 57.1 MB/s \n",
            "\u001b[K     |████████████████████████████████| 111 kB 49.7 MB/s \n",
            "\u001b[K     |████████████████████████████████| 170 kB 35.7 MB/s \n",
            "\u001b[K     |████████████████████████████████| 75 kB 3.5 MB/s \n",
            "\u001b[K     |████████████████████████████████| 63 kB 1.5 MB/s \n",
            "\u001b[K     |████████████████████████████████| 124 kB 51.4 MB/s \n",
            "\u001b[K     |████████████████████████████████| 787 kB 58.5 MB/s \n",
            "\u001b[K     |████████████████████████████████| 370 kB 40.7 MB/s \n",
            "\u001b[?25h  Building wheel for blinker (setup.py) ... \u001b[?25l\u001b[?25hdone\n",
            "\u001b[31mERROR: pip's dependency resolver does not currently take into account all the packages that are installed. This behaviour is the source of the following dependency conflicts.\n",
            "jupyter-console 5.2.0 requires prompt-toolkit<2.0.0,>=1.0.0, but you have prompt-toolkit 3.0.20 which is incompatible.\n",
            "google-colab 1.0.0 requires ipykernel~=4.10, but you have ipykernel 6.4.1 which is incompatible.\n",
            "google-colab 1.0.0 requires ipython~=5.5.0, but you have ipython 7.27.0 which is incompatible.\u001b[0m\n"
          ]
        }
      ]
    },
    {
      "cell_type": "markdown",
      "metadata": {
        "id": "uzvl_5Cv8HeX"
      },
      "source": [
        "## **<font color='red'>Ici on pense a redémarrer l'environnement.</font>**"
      ]
    },
    {
      "cell_type": "markdown",
      "metadata": {
        "id": "EFoluk860syY"
      },
      "source": [
        "### 1.2. Installation de NGRok"
      ]
    },
    {
      "cell_type": "markdown",
      "metadata": {
        "id": "G7RXzfxe0xRe"
      },
      "source": [
        "NGrok va nous permettre de créer un tunnel nous permettant de visualiser l'application dans un navigateur internet. Il faut exécuter les cellules suivantes pour télédécharger les sources du noyau sous Colab."
      ]
    },
    {
      "cell_type": "code",
      "metadata": {
        "colab": {
          "base_uri": "https://localhost:8080/"
        },
        "id": "0R8CWKpKD3HX",
        "outputId": "dc12397a-1d1a-4f1d-a00b-ed914b75324b"
      },
      "source": [
        "!pip install pyngrok==4.1.1"
      ],
      "execution_count": 2,
      "outputs": [
        {
          "output_type": "stream",
          "name": "stdout",
          "text": [
            "Collecting pyngrok==4.1.1\n",
            "  Downloading pyngrok-4.1.1.tar.gz (18 kB)\n",
            "Requirement already satisfied: future in /usr/local/lib/python3.7/dist-packages (from pyngrok==4.1.1) (0.16.0)\n",
            "Requirement already satisfied: PyYAML in /usr/local/lib/python3.7/dist-packages (from pyngrok==4.1.1) (3.13)\n",
            "Building wheels for collected packages: pyngrok\n",
            "  Building wheel for pyngrok (setup.py) ... \u001b[?25l\u001b[?25hdone\n",
            "  Created wheel for pyngrok: filename=pyngrok-4.1.1-py3-none-any.whl size=15984 sha256=ef7088698bd0a4318d45d3731bfc4c20e5ea268bd4a98d3c08fa1aaedaa585ba\n",
            "  Stored in directory: /root/.cache/pip/wheels/b1/d9/12/045a042fee3127dc40ba6f5df2798aa2df38c414bf533ca765\n",
            "Successfully built pyngrok\n",
            "Installing collected packages: pyngrok\n",
            "Successfully installed pyngrok-4.1.1\n"
          ]
        }
      ]
    },
    {
      "cell_type": "code",
      "metadata": {
        "colab": {
          "base_uri": "https://localhost:8080/"
        },
        "id": "VSPUMEHYwqng",
        "outputId": "27c0a4ca-7f66-4ba2-dbd5-201f6d34d5ac"
      },
      "source": [
        "!wget https://bin.equinox.io/c/4VmDzA7iaHb/ngrok-stable-linux-amd64.zip"
      ],
      "execution_count": 3,
      "outputs": [
        {
          "output_type": "stream",
          "name": "stdout",
          "text": [
            "--2021-09-17 07:05:20--  https://bin.equinox.io/c/4VmDzA7iaHb/ngrok-stable-linux-amd64.zip\n",
            "Resolving bin.equinox.io (bin.equinox.io)... 18.205.222.128, 52.202.168.65, 54.237.133.81, ...\n",
            "Connecting to bin.equinox.io (bin.equinox.io)|18.205.222.128|:443... connected.\n",
            "HTTP request sent, awaiting response... 200 OK\n",
            "Length: 13832437 (13M) [application/octet-stream]\n",
            "Saving to: ‘ngrok-stable-linux-amd64.zip’\n",
            "\n",
            "ngrok-stable-linux- 100%[===================>]  13.19M  8.22MB/s    in 1.6s    \n",
            "\n",
            "2021-09-17 07:05:22 (8.22 MB/s) - ‘ngrok-stable-linux-amd64.zip’ saved [13832437/13832437]\n",
            "\n"
          ]
        }
      ]
    },
    {
      "cell_type": "code",
      "metadata": {
        "colab": {
          "base_uri": "https://localhost:8080/"
        },
        "id": "6679q_6fwsJH",
        "outputId": "0e7321c2-566e-4c22-e14b-06481884aa50"
      },
      "source": [
        "!unzip ngrok-stable-linux-amd64.zip"
      ],
      "execution_count": 4,
      "outputs": [
        {
          "output_type": "stream",
          "name": "stdout",
          "text": [
            "Archive:  ngrok-stable-linux-amd64.zip\n",
            "  inflating: ngrok                   \n"
          ]
        }
      ]
    },
    {
      "cell_type": "markdown",
      "metadata": {
        "id": "BZr6fBuDAPb-"
      },
      "source": [
        "### 1.3. Chargement des packages et de l'application streamlit"
      ]
    },
    {
      "cell_type": "markdown",
      "metadata": {
        "id": "86JqdYaZ94Vu"
      },
      "source": [
        "L'application Streamlit est déjà déployée dans le repository Github associé au projet. Les instructions ci-dessous vont télédécharger les sources de l'application d'une part, et des packages nécessaires d'autre part."
      ]
    },
    {
      "cell_type": "code",
      "metadata": {
        "colab": {
          "base_uri": "https://localhost:8080/"
        },
        "id": "PI2yZH-gASpp",
        "outputId": "75efbb49-0265-4acf-f2c4-a17ab7bfb7f4"
      },
      "source": [
        "# Création de répertoires pour stocker le Git, les librairies et checkpoints\n",
        "!mkdir MPyRTemp -p\n",
        "!mkdir streamlit -p\n",
        "\n",
        "# Copie des sources des librairies projet depuis le Github\n",
        "!git clone https://github.com/DCEN-tech/Mushroom_Py-cture_Recognition/ ./MPyRTemp --dissociate > /dev/null\n",
        "\n",
        "# Répartition des différentes ressources dans les répertoires\n",
        "!cp -R ./MPyRTemp/demo/src/* ./streamlit\n",
        "   \n",
        "\n",
        "# Suppression de la copie du repository source\n",
        "!rm MPyRTemp -r"
      ],
      "execution_count": null,
      "outputs": [
        {
          "output_type": "stream",
          "name": "stdout",
          "text": [
            "Cloning into './MPyRTemp'...\n",
            "remote: Enumerating objects: 113, done.\u001b[K\n",
            "remote: Counting objects:   0% (1/113)\u001b[K\rremote: Counting objects:   1% (2/113)\u001b[K\rremote: Counting objects:   2% (3/113)\u001b[K\rremote: Counting objects:   3% (4/113)\u001b[K\rremote: Counting objects:   4% (5/113)\u001b[K\rremote: Counting objects:   5% (6/113)\u001b[K\rremote: Counting objects:   6% (7/113)\u001b[K\rremote: Counting objects:   7% (8/113)\u001b[K\rremote: Counting objects:   8% (10/113)\u001b[K\rremote: Counting objects:   9% (11/113)\u001b[K\rremote: Counting objects:  10% (12/113)\u001b[K\rremote: Counting objects:  11% (13/113)\u001b[K\rremote: Counting objects:  12% (14/113)\u001b[K\rremote: Counting objects:  13% (15/113)\u001b[K\rremote: Counting objects:  14% (16/113)\u001b[K\rremote: Counting objects:  15% (17/113)\u001b[K\rremote: Counting objects:  16% (19/113)\u001b[K\rremote: Counting objects:  17% (20/113)\u001b[K\rremote: Counting objects:  18% (21/113)\u001b[K\rremote: Counting objects:  19% (22/113)\u001b[K\rremote: Counting objects:  20% (23/113)\u001b[K\rremote: Counting objects:  21% (24/113)\u001b[K\rremote: Counting objects:  22% (25/113)\u001b[K\rremote: Counting objects:  23% (26/113)\u001b[K\rremote: Counting objects:  24% (28/113)\u001b[K\rremote: Counting objects:  25% (29/113)\u001b[K\rremote: Counting objects:  26% (30/113)\u001b[K\rremote: Counting objects:  27% (31/113)\u001b[K\rremote: Counting objects:  28% (32/113)\u001b[K\rremote: Counting objects:  29% (33/113)\u001b[K\rremote: Counting objects:  30% (34/113)\u001b[K\rremote: Counting objects:  31% (36/113)\u001b[K\rremote: Counting objects:  32% (37/113)\u001b[K\rremote: Counting objects:  33% (38/113)\u001b[K\rremote: Counting objects:  34% (39/113)\u001b[K\rremote: Counting objects:  35% (40/113)\u001b[K\rremote: Counting objects:  36% (41/113)\u001b[K\rremote: Counting objects:  37% (42/113)\u001b[K\rremote: Counting objects:  38% (43/113)\u001b[K\rremote: Counting objects:  39% (45/113)\u001b[K\rremote: Counting objects:  40% (46/113)\u001b[K\rremote: Counting objects:  41% (47/113)\u001b[K\rremote: Counting objects:  42% (48/113)\u001b[K\rremote: Counting objects:  43% (49/113)\u001b[K\rremote: Counting objects:  44% (50/113)\u001b[K\rremote: Counting objects:  45% (51/113)\u001b[K\rremote: Counting objects:  46% (52/113)\u001b[K\rremote: Counting objects:  47% (54/113)\u001b[K\rremote: Counting objects:  48% (55/113)\u001b[K\rremote: Counting objects:  49% (56/113)\u001b[K\rremote: Counting objects:  50% (57/113)\u001b[K\rremote: Counting objects:  51% (58/113)\u001b[K\rremote: Counting objects:  52% (59/113)\u001b[K\rremote: Counting objects:  53% (60/113)\u001b[K\rremote: Counting objects:  54% (62/113)\u001b[K\rremote: Counting objects:  55% (63/113)\u001b[K\rremote: Counting objects:  56% (64/113)\u001b[K\rremote: Counting objects:  57% (65/113)\u001b[K\rremote: Counting objects:  58% (66/113)\u001b[K\rremote: Counting objects:  59% (67/113)\u001b[K\rremote: Counting objects:  60% (68/113)\u001b[K\rremote: Counting objects:  61% (69/113)\u001b[K\rremote: Counting objects:  62% (71/113)\u001b[K\rremote: Counting objects:  63% (72/113)\u001b[K\rremote: Counting objects:  64% (73/113)\u001b[K\rremote: Counting objects:  65% (74/113)\u001b[K\rremote: Counting objects:  66% (75/113)\u001b[K\rremote: Counting objects:  67% (76/113)\u001b[K\rremote: Counting objects:  68% (77/113)\u001b[K\rremote: Counting objects:  69% (78/113)\u001b[K\rremote: Counting objects:  70% (80/113)\u001b[K\rremote: Counting objects:  71% (81/113)\u001b[K\rremote: Counting objects:  72% (82/113)\u001b[K\rremote: Counting objects:  73% (83/113)\u001b[K\rremote: Counting objects:  74% (84/113)\u001b[K\rremote: Counting objects:  75% (85/113)\u001b[K\rremote: Counting objects:  76% (86/113)\u001b[K\rremote: Counting objects:  77% (88/113)\u001b[K\rremote: Counting objects:  78% (89/113)\u001b[K\rremote: Counting objects:  79% (90/113)\u001b[K\rremote: Counting objects:  80% (91/113)\u001b[K\rremote: Counting objects:  81% (92/113)\u001b[K\rremote: Counting objects:  82% (93/113)\u001b[K\rremote: Counting objects:  83% (94/113)\u001b[K\rremote: Counting objects:  84% (95/113)\u001b[K\rremote: Counting objects:  85% (97/113)\u001b[K\rremote: Counting objects:  86% (98/113)\u001b[K\rremote: Counting objects:  87% (99/113)\u001b[K\rremote: Counting objects:  88% (100/113)\u001b[K\rremote: Counting objects:  89% (101/113)\u001b[K\rremote: Counting objects:  90% (102/113)\u001b[K\rremote: Counting objects:  91% (103/113)\u001b[K\rremote: Counting objects:  92% (104/113)\u001b[K\rremote: Counting objects:  93% (106/113)\u001b[K\rremote: Counting objects:  94% (107/113)\u001b[K\rremote: Counting objects:  95% (108/113)\u001b[K\rremote: Counting objects:  96% (109/113)\u001b[K\rremote: Counting objects:  97% (110/113)\u001b[K\rremote: Counting objects:  98% (111/113)\u001b[K\rremote: Counting objects:  99% (112/113)\u001b[K\rremote: Counting objects: 100% (113/113)\u001b[K\rremote: Counting objects: 100% (113/113), done.\u001b[K\n",
            "remote: Compressing objects: 100% (86/86), done.\u001b[K\n",
            "remote: Total 113 (delta 16), reused 106 (delta 14), pack-reused 0\u001b[K\n",
            "Receiving objects: 100% (113/113), 20.53 MiB | 37.82 MiB/s, done.\n",
            "Resolving deltas: 100% (16/16), done.\n"
          ]
        }
      ]
    },
    {
      "cell_type": "markdown",
      "metadata": {
        "id": "14fstGETAZT9"
      },
      "source": [
        "### 1.4. Installation des dépendances"
      ]
    },
    {
      "cell_type": "markdown",
      "metadata": {
        "id": "t_wTJJC5-T1J"
      },
      "source": [
        "Quelques librairies sont nécessaires au bon fonctionnement de l'application. Nous les installons toutes depuis le fichier de configuration rattaché a l’application.  Il est possible qu'une erreur de version apparaisse, sans conséquence pour la bonne exécution de l'application."
      ]
    },
    {
      "cell_type": "code",
      "metadata": {
        "colab": {
          "base_uri": "https://localhost:8080/"
        },
        "id": "_V0R4yqvmiYS",
        "outputId": "d8465b04-be14-495c-b6b7-885814348c55"
      },
      "source": [
        "#pas besoin pour nous ? \n",
        "#!pip install -r streamlit/requirements.txt  > /dev/null"
      ],
      "execution_count": null,
      "outputs": [
        {
          "output_type": "stream",
          "name": "stdout",
          "text": [
            "\u001b[31mERROR: Could not open requirements file: [Errno 2] No such file or directory: 'streamlit/requirements.txt'\u001b[0m\n"
          ]
        }
      ]
    },
    {
      "cell_type": "markdown",
      "metadata": {
        "id": "encqGJ4u0FYG"
      },
      "source": [
        "## **2. Lancement de l'application**"
      ]
    },
    {
      "cell_type": "markdown",
      "metadata": {
        "id": "JExKU0Gvn72U"
      },
      "source": [
        "Les installations étant terminées, l'application peut être lancée. Nous allons pour cela initier un tunnel ngrok.\n",
        "\n",
        "Au préalable, il convient de générer un fichier de configuration comportant un token de connexion. Rendez-vous sur le site ngrok.com, inscrivez-vous si ce n'est déjà fait et récupérez votre token (présent sur la page de votre profil). Remplacer ensuite la ligne ci-dessous par votre propre token avant de l'exécuter.\n"
      ]
    },
    {
      "cell_type": "code",
      "metadata": {
        "colab": {
          "base_uri": "https://localhost:8080/"
        },
        "id": "vnkvhNBp9jf1",
        "outputId": "a4dad750-bd4a-40d7-b5e6-3503d8c48e12"
      },
      "source": [
        "!ngrok authtoken 1xuLUeYQUBq58sA61Zb9ekFPVSU_GcaPTxM1MAWiDczNvtCy"
      ],
      "execution_count": 5,
      "outputs": [
        {
          "output_type": "stream",
          "name": "stdout",
          "text": [
            "Authtoken saved to configuration file: /root/.ngrok2/ngrok.yml\n"
          ]
        }
      ]
    },
    {
      "cell_type": "code",
      "metadata": {
        "id": "QCKuBxsuk0lN",
        "outputId": "cd10e7de-61a8-4ca2-9736-9b79da5468ec",
        "colab": {
          "base_uri": "https://localhost:8080/"
        }
      },
      "source": [
        "from google.colab import drive\n",
        "drive.mount('/content/drive')"
      ],
      "execution_count": 6,
      "outputs": [
        {
          "output_type": "stream",
          "name": "stdout",
          "text": [
            "Mounted at /content/drive\n"
          ]
        }
      ]
    },
    {
      "cell_type": "markdown",
      "metadata": {
        "id": "MNHYv8wj1Zzr"
      },
      "source": [
        "Lancez les 3 cellules ci-dessous, un nouveau tunnel sera alors généré. Pour visualiser le rendu de l'application il faut se rendre sur le lien indiqué par la seconde cellule (de type https://xxxxxxx.ngrok.io)"
      ]
    },
    {
      "cell_type": "code",
      "metadata": {
        "id": "qGCM2OjvxNit"
      },
      "source": [
        "get_ipython().system_raw('./ngrok http 8501 &')"
      ],
      "execution_count": 7,
      "outputs": []
    },
    {
      "cell_type": "code",
      "metadata": {
        "colab": {
          "base_uri": "https://localhost:8080/"
        },
        "id": "bxwv00hdxedU",
        "outputId": "572435ac-8972-466f-d848-d7e06da85ebb"
      },
      "source": [
        "!curl -s http://localhost:4040/api/tunnels | python3 -c \\\n",
        "    'import sys, json; print(\"URL pour visualiser l application : \" +json.load(sys.stdin)[\"tunnels\"][0][\"public_url\"])'"
      ],
      "execution_count": 8,
      "outputs": [
        {
          "output_type": "stream",
          "name": "stdout",
          "text": [
            "URL pour visualiser l application : https://591d-104-196-32-208.ngrok.io\n"
          ]
        }
      ]
    },
    {
      "cell_type": "code",
      "metadata": {
        "colab": {
          "base_uri": "https://localhost:8080/"
        },
        "id": "T1bWdX1Y_n9j",
        "outputId": "7c317cef-9b27-4546-80f6-136f7f46b569"
      },
      "source": [
        "!streamlit run /content/drive/MyDrive/streamlit/app.py"
      ],
      "execution_count": null,
      "outputs": [
        {
          "output_type": "stream",
          "name": "stdout",
          "text": [
            "\u001b[0m\n",
            "\u001b[34m\u001b[1m  You can now view your Streamlit app in your browser.\u001b[0m\n",
            "\u001b[0m\n",
            "\u001b[34m  Network URL: \u001b[0m\u001b[1mhttp://172.28.0.2:8501\u001b[0m\n",
            "\u001b[34m  External URL: \u001b[0m\u001b[1mhttp://104.196.32.208:8501\u001b[0m\n",
            "\u001b[0m\n",
            "2021-09-17 07:07:20.778 Traceback (most recent call last):\n",
            "  File \"/usr/local/lib/python3.7/dist-packages/streamlit/script_runner.py\", line 354, in _run_script\n",
            "    exec(code, module.__dict__)\n",
            "  File \"/content/drive/MyDrive/streamlit/app.py\", line 58, in <module>\n",
            "    page.app()\n",
            "  File \"/content/drive/MyDrive/streamlit/single_image_recognition.py\", line 75, in app\n",
            "    ,  mushroomDetector   = self.mushroomDetector\n",
            "NameError: name 'self' is not defined\n",
            "\n"
          ]
        }
      ]
    }
  ]
}